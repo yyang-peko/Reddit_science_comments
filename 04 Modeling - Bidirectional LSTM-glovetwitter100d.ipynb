{
 "cells": [
  {
   "cell_type": "code",
   "execution_count": 1,
   "id": "e01f259a",
   "metadata": {},
   "outputs": [
    {
     "name": "stderr",
     "output_type": "stream",
     "text": [
      "[nltk_data] Downloading package stopwords to\n",
      "[nltk_data]     C:\\Users\\Tau\\AppData\\Roaming\\nltk_data...\n",
      "[nltk_data]   Package stopwords is already up-to-date!\n"
     ]
    },
    {
     "data": {
      "text/plain": [
       "True"
      ]
     },
     "execution_count": 1,
     "metadata": {},
     "output_type": "execute_result"
    }
   ],
   "source": [
    "from matplotlib import pyplot as plt\n",
    "import math, os, re, time, random, string\n",
    "import numpy as np, pandas as pd, seaborn as sns\n",
    "from tqdm import tqdm\n",
    "tqdm.pandas()\n",
    "import matplotlib.pyplot as plt\n",
    "plt.style.use('ggplot')\n",
    "import seaborn as sns\n",
    "\n",
    "from collections import defaultdict\n",
    "import wordcloud\n",
    "\n",
    "import warnings\n",
    "warnings.filterwarnings('ignore')\n",
    "\n",
    "import tensorflow as tf\n",
    "\n",
    "from tensorflow.keras.preprocessing.text import Tokenizer\n",
    "from tensorflow.keras.preprocessing.sequence import pad_sequences\n",
    "\n",
    "from sklearn.metrics import *\n",
    "from sklearn.preprocessing import StandardScaler\n",
    "from sklearn.model_selection import *\n",
    "\n",
    "import nltk\n",
    "from nltk.corpus import stopwords\n",
    "nltk.download('stopwords')\n",
    "\n",
    "from tensorflow.keras.layers import *\n",
    "from tensorflow.keras import Input, Model\n",
    "from tensorflow.keras.regularizers import l2\n",
    "from tensorflow.keras.optimizers import *\n",
    "from tensorflow.keras.models import Sequential\n",
    "from tensorflow.keras.callbacks import EarlyStopping, ModelCheckpoint, ReduceLROnPlateau"
   ]
  },
  {
   "cell_type": "markdown",
   "id": "2d060d76",
   "metadata": {},
   "source": [
    "#### Read data"
   ]
  },
  {
   "cell_type": "code",
   "execution_count": 2,
   "id": "19ce4c43",
   "metadata": {},
   "outputs": [],
   "source": [
    "df = pd.read_csv('./raw_data/train_processed.csv', encoding='latin-1')\n",
    "test = pd.read_csv('./raw_data/test_processed.csv', encoding='latin-1')\n",
    "df = df.dropna()\n",
    "test = test.dropna()"
   ]
  },
  {
   "cell_type": "markdown",
   "id": "9e981511",
   "metadata": {},
   "source": [
    "#### Split and organize"
   ]
  },
  {
   "cell_type": "code",
   "execution_count": 3,
   "id": "7bc846c3",
   "metadata": {},
   "outputs": [
    {
     "data": {
      "text/plain": [
       "(6392, 12)"
      ]
     },
     "execution_count": 3,
     "metadata": {},
     "output_type": "execute_result"
    },
    {
     "data": {
      "text/plain": [
       "(14915, 12)"
      ]
     },
     "execution_count": 3,
     "metadata": {},
     "output_type": "execute_result"
    },
    {
     "data": {
      "text/plain": [
       "(7107, 12)"
      ]
     },
     "execution_count": 3,
     "metadata": {},
     "output_type": "execute_result"
    }
   ],
   "source": [
    "train, val = train_test_split(df, test_size=0.7)\n",
    "\n",
    "y_train = train['REMOVED']\n",
    "y_val = val['REMOVED']\n",
    "y_test = test['REMOVED']\n",
    "train.shape\n",
    "val.shape\n",
    "test.shape"
   ]
  },
  {
   "cell_type": "markdown",
   "id": "ed18a1e1",
   "metadata": {},
   "source": [
    "#### Metafeature scaling"
   ]
  },
  {
   "cell_type": "code",
   "execution_count": 4,
   "id": "e74e4800",
   "metadata": {},
   "outputs": [
    {
     "data": {
      "text/plain": [
       "StandardScaler()"
      ]
     },
     "execution_count": 4,
     "metadata": {},
     "output_type": "execute_result"
    },
    {
     "data": {
      "text/plain": [
       "(6392, 6)"
      ]
     },
     "execution_count": 4,
     "metadata": {},
     "output_type": "execute_result"
    },
    {
     "data": {
      "text/plain": [
       "(14915, 6)"
      ]
     },
     "execution_count": 4,
     "metadata": {},
     "output_type": "execute_result"
    },
    {
     "data": {
      "text/plain": [
       "(7107, 6)"
      ]
     },
     "execution_count": 4,
     "metadata": {},
     "output_type": "execute_result"
    }
   ],
   "source": [
    "scaler = StandardScaler()\n",
    "scaler.fit(train.iloc[:, 2:8])\n",
    "\n",
    "train_meta = scaler.transform(train.iloc[:, 2:8])\n",
    "val_meta = scaler.transform(val.iloc[:, 2:8])\n",
    "test_meta = scaler.transform(test.iloc[:, 2:8])\n",
    "\n",
    "train_meta.shape\n",
    "val_meta.shape\n",
    "test_meta.shape"
   ]
  },
  {
   "cell_type": "markdown",
   "id": "a7236b75",
   "metadata": {},
   "source": [
    "#### Tokenizing"
   ]
  },
  {
   "cell_type": "code",
   "execution_count": 5,
   "id": "44804d31",
   "metadata": {},
   "outputs": [],
   "source": [
    "input_dim = 200"
   ]
  },
  {
   "cell_type": "code",
   "execution_count": 6,
   "id": "10c53072",
   "metadata": {},
   "outputs": [
    {
     "name": "stdout",
     "output_type": "stream",
     "text": [
      "18308 unique tokens\n"
     ]
    }
   ],
   "source": [
    "train_text = [i for i in train['stemmed_no_stop']]\n",
    "test_text = [i for i in test['stemmed_no_stop']]\n",
    "val_text = [i for i in val['stemmed_no_stop']]\n",
    "\n",
    "tokenizer = Tokenizer()\n",
    "\n",
    "tokenizer.fit_on_texts(train_text)\n",
    "\n",
    "print(len(tokenizer.word_index), 'unique tokens')\n",
    "\n",
    "train_seq = tokenizer.texts_to_sequences(train_text)\n",
    "test_seq = tokenizer.texts_to_sequences(test_text)\n",
    "val_seq = tokenizer.texts_to_sequences(val_text)\n",
    "\n",
    "train_data = pad_sequences(train_seq, input_dim)\n",
    "val_data = pad_sequences(val_seq, input_dim)\n",
    "test_data = pad_sequences(test_seq, input_dim)"
   ]
  },
  {
   "cell_type": "code",
   "execution_count": 7,
   "id": "f022eaa5",
   "metadata": {},
   "outputs": [
    {
     "data": {
      "text/plain": [
       "(6392, 746)"
      ]
     },
     "execution_count": 7,
     "metadata": {},
     "output_type": "execute_result"
    }
   ],
   "source": [
    "pad_sequences(train_seq).shape"
   ]
  },
  {
   "cell_type": "markdown",
   "id": "5b0cdfcb",
   "metadata": {},
   "source": [
    "#### Embedding"
   ]
  },
  {
   "cell_type": "code",
   "execution_count": 8,
   "id": "dcd1f5db",
   "metadata": {},
   "outputs": [
    {
     "name": "stderr",
     "output_type": "stream",
     "text": [
      "1193517it [00:58, 20313.70it/s]\n"
     ]
    }
   ],
   "source": [
    "embeddings_index = {}\n",
    "with open('./glove/glove.twitter.27B/glove.twitter.27B.200d.txt','r', encoding=\"utf8\") as f:\n",
    "    for line in tqdm(f):\n",
    "        values = line.split()\n",
    "        word = values[0]\n",
    "        coefs = np.asarray(values[1:], dtype='float32')\n",
    "        embeddings_index[word] = coefs\n",
    "f.close()"
   ]
  },
  {
   "cell_type": "code",
   "execution_count": 9,
   "id": "04771cd3",
   "metadata": {},
   "outputs": [
    {
     "name": "stderr",
     "output_type": "stream",
     "text": [
      "100%|██████████| 18308/18308 [00:00<00:00, 731668.28it/s]"
     ]
    },
    {
     "name": "stdout",
     "output_type": "stream",
     "text": [
      "embedded matrix dimension (18309, 200)\n"
     ]
    },
    {
     "name": "stderr",
     "output_type": "stream",
     "text": [
      "\n"
     ]
    }
   ],
   "source": [
    "word_index = tokenizer.word_index\n",
    "\n",
    "#initialize embedding matrix with zeros\n",
    "embedding_matrix = np.zeros((len(word_index) + 1, input_dim))\n",
    "\n",
    "#add glove word encodings to our library\n",
    "for word, i in tqdm(word_index.items()):\n",
    "    embedding_vector = embeddings_index.get(word)\n",
    "    if embedding_vector is not None:\n",
    "        \n",
    "        #words not found in embedding index will be all-zeros.\n",
    "        embedding_matrix[i] = embedding_vector\n",
    "        \n",
    "print(\"embedded matrix dimension\", embedding_matrix.shape)\n",
    "\n",
    "embedding = Embedding(len(word_index) + 1, input_dim, weights = [embedding_matrix],\n",
    "                     input_length = 200, trainable = False)  "
   ]
  },
  {
   "cell_type": "markdown",
   "id": "8ab57b75",
   "metadata": {},
   "source": [
    "#### Modeling functions"
   ]
  },
  {
   "cell_type": "code",
   "execution_count": 10,
   "id": "57dbe02b",
   "metadata": {},
   "outputs": [],
   "source": [
    "reduce_lr = ReduceLROnPlateau(monitor = 'val_loss', \n",
    "                              factor = 0.5, \n",
    "                              verbose = 1, \n",
    "                              patience = 4,                        \n",
    "                              min_lr = 0.0001)   \n",
    "    \n",
    "def model_process(model, n_epochs=20):\n",
    "    model.summary()\n",
    "    history = model.fit(x=[train_data, train_meta],\n",
    "                        y=y_train,\n",
    "                        epochs = n_epochs,\n",
    "                        verbose=1,\n",
    "                        callbacks=[reduce_lr],\n",
    "                        validation_data = ([val_data, val_meta], y_val)\n",
    "                       )\n",
    "    \n",
    "    scores = pd.DataFrame(history.history)\n",
    "    scores[['loss', 'val_loss']].plot()\n",
    "    scores[['accuracy', 'val_accuracy']].plot()\n",
    "    \n",
    "    y_pred = (model.predict([test_data, test_meta]) > 0.5).astype(int)\n",
    "    print('\\nf1 score is:', f1_score(y_test, y_pred, average = 'macro'))\n",
    "    print(classification_report(y_test, y_pred))\n",
    "    print(confusion_matrix(y_test, y_pred))"
   ]
  },
  {
   "cell_type": "markdown",
   "id": "1eddfdb8",
   "metadata": {},
   "source": [
    "# BidirectionalLSTM"
   ]
  },
  {
   "cell_type": "code",
   "execution_count": 27,
   "id": "a547829b",
   "metadata": {},
   "outputs": [],
   "source": [
    "def bi_lstm_rnn():\n",
    "    nlp_input = Input(shape = (input_dim,), name = 'nlp_input')\n",
    "    meta_input_train = Input(shape = (6, ), name = 'meta_train')\n",
    "    \n",
    "    emb = embedding(nlp_input)\n",
    "    emb = SpatialDropout1D(0.2)(emb)\n",
    "\n",
    "    nlp_out = Bidirectional(LSTM(80, dropout=0.4))(emb)  \n",
    "     \n",
    "    #add meta data    \n",
    "    x = Concatenate()([nlp_out, meta_input_train])\n",
    "    \n",
    "    #add second hidden layer\n",
    "    x = Dropout(0.2)(x)\n",
    "    x = (Dense(80, \n",
    "               activation = 'relu'\n",
    "              ))(x)\n",
    "    \n",
    "    #add output layer\n",
    "    x = Dropout(0.2)(x)\n",
    "    preds = Dense(1, \n",
    "                  activation='sigmoid'\n",
    "                 )(x)\n",
    "    \n",
    "    #compile model\n",
    "    model = Model(inputs=[nlp_input , meta_input_train], outputs = preds)\n",
    "    model.compile(loss = 'binary_crossentropy', optimizer = Adam(0.004), metrics = ['accuracy'])\n",
    "    \n",
    "    return model"
   ]
  },
  {
   "cell_type": "code",
   "execution_count": 28,
   "id": "6b1a15db",
   "metadata": {
    "scrolled": false
   },
   "outputs": [
    {
     "name": "stdout",
     "output_type": "stream",
     "text": [
      "Model: \"model_44\"\n",
      "__________________________________________________________________________________________________\n",
      " Layer (type)                   Output Shape         Param #     Connected to                     \n",
      "==================================================================================================\n",
      " nlp_input (InputLayer)         [(None, 200)]        0           []                               \n",
      "                                                                                                  \n",
      " embedding (Embedding)          (None, 200, 200)     3661800     ['nlp_input[0][0]']              \n",
      "                                                                                                  \n",
      " spatial_dropout1d_88 (SpatialD  (None, 200, 200)    0           ['embedding[44][0]']             \n",
      " ropout1D)                                                                                        \n",
      "                                                                                                  \n",
      " bidirectional_88 (Bidirectiona  (None, 160)         179840      ['spatial_dropout1d_88[0][0]']   \n",
      " l)                                                                                               \n",
      "                                                                                                  \n",
      " meta_train (InputLayer)        [(None, 6)]          0           []                               \n",
      "                                                                                                  \n",
      " concatenate_44 (Concatenate)   (None, 166)          0           ['bidirectional_88[0][0]',       \n",
      "                                                                  'meta_train[0][0]']             \n",
      "                                                                                                  \n",
      " dropout_88 (Dropout)           (None, 166)          0           ['concatenate_44[0][0]']         \n",
      "                                                                                                  \n",
      " dense_88 (Dense)               (None, 80)           13360       ['dropout_88[0][0]']             \n",
      "                                                                                                  \n",
      " dropout_89 (Dropout)           (None, 80)           0           ['dense_88[0][0]']               \n",
      "                                                                                                  \n",
      " dense_89 (Dense)               (None, 1)            81          ['dropout_89[0][0]']             \n",
      "                                                                                                  \n",
      "==================================================================================================\n",
      "Total params: 3,855,081\n",
      "Trainable params: 193,281\n",
      "Non-trainable params: 3,661,800\n",
      "__________________________________________________________________________________________________\n",
      "Epoch 1/10\n",
      "200/200 [==============================] - 59s 273ms/step - loss: 0.5912 - accuracy: 0.6829 - val_loss: 0.5519 - val_accuracy: 0.7061 - lr: 0.0040\n",
      "Epoch 2/10\n",
      "200/200 [==============================] - 49s 247ms/step - loss: 0.5704 - accuracy: 0.6957 - val_loss: 0.5469 - val_accuracy: 0.7142 - lr: 0.0040\n",
      "Epoch 3/10\n",
      "200/200 [==============================] - 37s 187ms/step - loss: 0.5497 - accuracy: 0.7140 - val_loss: 0.5512 - val_accuracy: 0.7058 - lr: 0.0040\n",
      "Epoch 4/10\n",
      "200/200 [==============================] - 37s 187ms/step - loss: 0.5362 - accuracy: 0.7226 - val_loss: 0.5486 - val_accuracy: 0.7156 - lr: 0.0040\n",
      "Epoch 5/10\n",
      "200/200 [==============================] - 38s 189ms/step - loss: 0.5235 - accuracy: 0.7347 - val_loss: 0.5420 - val_accuracy: 0.7185 - lr: 0.0040\n",
      "Epoch 6/10\n",
      "200/200 [==============================] - 39s 194ms/step - loss: 0.5128 - accuracy: 0.7353 - val_loss: 0.5435 - val_accuracy: 0.7140 - lr: 0.0040\n",
      "Epoch 7/10\n",
      "200/200 [==============================] - 38s 191ms/step - loss: 0.5043 - accuracy: 0.7422 - val_loss: 0.5413 - val_accuracy: 0.7158 - lr: 0.0040\n",
      "Epoch 8/10\n",
      "200/200 [==============================] - 55s 276ms/step - loss: 0.4843 - accuracy: 0.7574 - val_loss: 0.5569 - val_accuracy: 0.7060 - lr: 0.0040\n",
      "Epoch 9/10\n",
      "200/200 [==============================] - 59s 296ms/step - loss: 0.4752 - accuracy: 0.7705 - val_loss: 0.5800 - val_accuracy: 0.7020 - lr: 0.0040\n",
      "Epoch 10/10\n",
      "200/200 [==============================] - 58s 292ms/step - loss: 0.4604 - accuracy: 0.7747 - val_loss: 0.5661 - val_accuracy: 0.7138 - lr: 0.0040\n",
      "\n",
      "f1 score is: 0.6527157719861558\n",
      "              precision    recall  f1-score   support\n",
      "\n",
      "           0       0.76      0.86      0.80      4808\n",
      "           1       0.59      0.43      0.50      2299\n",
      "\n",
      "    accuracy                           0.72      7107\n",
      "   macro avg       0.67      0.65      0.65      7107\n",
      "weighted avg       0.70      0.72      0.71      7107\n",
      "\n",
      "[[4114  694]\n",
      " [1300  999]]\n"
     ]
    },
    {
     "data": {
      "image/png": "[encoded data removed]",
      "text/plain": [
       "<Figure size 432x288 with 1 Axes>"
      ]
     },
     "metadata": {},
     "output_type": "display_data"
    },
    {
     "data": {
      "image/png": "[encoded data removed]",
      "text/plain": [
       "<Figure size 432x288 with 1 Axes>"
      ]
     },
     "metadata": {},
     "output_type": "display_data"
    }
   ],
   "source": [
    "m1 = bi_lstm_rnn()\n",
    "model_process(m1, 10)"
   ]
  },
  {
   "cell_type": "code",
   "execution_count": null,
   "id": "26a243d8",
   "metadata": {},
   "outputs": [],
   "source": []
  },
  {
   "cell_type": "code",
   "execution_count": 13,
   "id": "77ddf799",
   "metadata": {},
   "outputs": [],
   "source": [
    "import optuna"
   ]
  },
  {
   "cell_type": "code",
   "execution_count": 23,
   "id": "80ba3c60",
   "metadata": {},
   "outputs": [],
   "source": [
    "def objective(trial):\n",
    "    LSTM_dropout = trial.suggest_discrete_uniform('LSTM_dropout', 0.0, 0.8, 0.1)\n",
    "    spatial_dropout = trial.suggest_discrete_uniform('spatial_dropout', 0.0, 0.8, 0.1)\n",
    "    dropout = trial.suggest_discrete_uniform('dropout', 0.0, 0.8, 0.1)\n",
    "    lr = trial.suggest_float(\"lr\", 1e-5, 1e-1, log=True)\n",
    "    optimizer = trial.suggest_categorical(\"optimizer\", [Adam, RMSprop])\n",
    "    \n",
    "    LSTM1 = trial.suggest_int('units1', 20, 100, step=10)\n",
    "    LSTM2 = trial.suggest_int('units2', 20, 100, step=10)\n",
    "    dense_units = trial.suggest_int('units3', 10, 100, step=5)\n",
    "    \n",
    "    \n",
    "    \n",
    "    nlp_input = Input(shape = (input_dim,), name = 'nlp_input')\n",
    "    meta_input_train = Input(shape = (6, ), name = 'meta_train')\n",
    "    \n",
    "    emb = embedding(nlp_input)\n",
    "    emb = SpatialDropout1D(spatial_dropout)(emb)\n",
    "\n",
    "    nlp_out = Bidirectional(LSTM(LSTM1, \n",
    "                                 dropout=LSTM_dropout,\n",
    "                                 return_sequences=True))(emb)    \n",
    "    \n",
    "    nlp_out = SpatialDropout1D(spatial_dropout)(nlp_out)\n",
    "    \n",
    "    nlp_out = Bidirectional(LSTM(LSTM2, \n",
    "                                 dropout=LSTM_dropout))(nlp_out)    \n",
    "    \n",
    "     \n",
    "    #add meta data    \n",
    "    x = Concatenate()([nlp_out, meta_input_train])\n",
    "    \n",
    "    #add second hidden layer\n",
    "    x = Dropout(dropout)(x)\n",
    "    x = (Dense(dense_units, \n",
    "               activation = 'relu'\n",
    "              ))(x)\n",
    "    \n",
    "    #add output layer\n",
    "    x = Dropout(dropout)(x)\n",
    "    preds = Dense(1, \n",
    "                  activation='sigmoid'\n",
    "                 )(x)\n",
    "    \n",
    "    #compile model\n",
    "    model = Model(inputs=[nlp_input , meta_input_train], outputs = preds)\n",
    "\n",
    "    model.compile(loss = 'binary_crossentropy', optimizer = optimizer(lr), metrics = ['accuracy'])\n",
    "    \n",
    "    reduce_lr = ReduceLROnPlateau(monitor = 'val_loss', \n",
    "                              factor = 0.5, \n",
    "                              verbose = False, \n",
    "                              patience = 4,                        \n",
    "                              min_lr = 0.0001)\n",
    "    \n",
    "    pruning = optuna.integration.TFKerasPruningCallback(trial, 'val_accuracy')\n",
    "    \n",
    "    model.fit(x=[train_data, train_meta],\n",
    "                        y=y_train,\n",
    "                        epochs = 5,\n",
    "                        verbose=False,\n",
    "                        callbacks=[reduce_lr, pruning],\n",
    "                        validation_data = ([val_data, val_meta], y_val),\n",
    "                        shuffle=True\n",
    "                       )\n",
    "    y_pred = (model.predict([test_data, test_meta]) > 0.5).astype(int)\n",
    "    f1 = f1_score(y_test, y_pred, average='macro')\n",
    "    return f1"
   ]
  },
  {
   "cell_type": "code",
   "execution_count": 24,
   "id": "35d0522b",
   "metadata": {},
   "outputs": [
    {
     "name": "stderr",
     "output_type": "stream",
     "text": [
      "\u001b[32m[I 2021-11-28 23:35:28,011]\u001b[0m A new study created in memory with name: no-name-61a517aa-2492-419e-a052-473c54176722\u001b[0m\n",
      "\u001b[32m[I 2021-11-28 23:41:56,767]\u001b[0m Trial 0 finished with value: 0.47830710185177255 and parameters: {'LSTM_dropout': 0.6000000000000001, 'spatial_dropout': 0.30000000000000004, 'dropout': 0.1, 'lr': 0.011771176007319995, 'optimizer': <class 'keras.optimizer_v2.rmsprop.RMSprop'>, 'units1': 80, 'units2': 70, 'units3': 60}. Best is trial 0 with value: 0.47830710185177255.\u001b[0m\n",
      "\u001b[32m[I 2021-11-28 23:48:44,594]\u001b[0m Trial 1 finished with value: 0.6363656970039948 and parameters: {'LSTM_dropout': 0.4, 'spatial_dropout': 0.0, 'dropout': 0.5, 'lr': 0.00011072366477329624, 'optimizer': <class 'keras.optimizer_v2.rmsprop.RMSprop'>, 'units1': 80, 'units2': 80, 'units3': 75}. Best is trial 1 with value: 0.6363656970039948.\u001b[0m\n",
      "\u001b[32m[I 2021-11-28 23:54:27,861]\u001b[0m Trial 2 finished with value: 0.5628456305017786 and parameters: {'LSTM_dropout': 0.6000000000000001, 'spatial_dropout': 0.0, 'dropout': 0.1, 'lr': 0.03579659242535939, 'optimizer': <class 'keras.optimizer_v2.rmsprop.RMSprop'>, 'units1': 50, 'units2': 90, 'units3': 80}. Best is trial 1 with value: 0.6363656970039948.\u001b[0m\n",
      "\u001b[32m[I 2021-11-28 23:58:42,218]\u001b[0m Trial 3 finished with value: 0.49364067207278006 and parameters: {'LSTM_dropout': 0.0, 'spatial_dropout': 0.4, 'dropout': 0.6000000000000001, 'lr': 0.005282968498335284, 'optimizer': <class 'keras.optimizer_v2.adam.Adam'>, 'units1': 20, 'units2': 90, 'units3': 40}. Best is trial 1 with value: 0.6363656970039948.\u001b[0m\n",
      "\u001b[32m[I 2021-11-29 00:03:14,032]\u001b[0m Trial 4 finished with value: 0.4035249685270667 and parameters: {'LSTM_dropout': 0.5, 'spatial_dropout': 0.5, 'dropout': 0.7000000000000001, 'lr': 0.009293065267530844, 'optimizer': <class 'keras.optimizer_v2.rmsprop.RMSprop'>, 'units1': 40, 'units2': 60, 'units3': 65}. Best is trial 1 with value: 0.6363656970039948.\u001b[0m\n",
      "\u001b[32m[I 2021-11-29 00:05:12,958]\u001b[0m Trial 5 pruned. Trial was pruned at epoch 0.\u001b[0m\n",
      "\u001b[32m[I 2021-11-29 00:07:45,461]\u001b[0m Trial 6 pruned. Trial was pruned at epoch 0.\u001b[0m\n",
      "\u001b[32m[I 2021-11-29 00:10:24,248]\u001b[0m Trial 7 pruned. Trial was pruned at epoch 0.\u001b[0m\n",
      "\u001b[32m[I 2021-11-29 00:12:52,197]\u001b[0m Trial 8 pruned. Trial was pruned at epoch 0.\u001b[0m\n",
      "\u001b[32m[I 2021-11-29 00:15:00,513]\u001b[0m Trial 9 pruned. Trial was pruned at epoch 0.\u001b[0m\n"
     ]
    }
   ],
   "source": [
    "study = optuna.create_study(direction='maximize')\n",
    "study.optimize(objective, n_trials=10)"
   ]
  },
  {
   "cell_type": "code",
   "execution_count": 26,
   "id": "78dcd000",
   "metadata": {},
   "outputs": [
    {
     "data": {
      "text/plain": [
       "{'LSTM_dropout': 0.4,\n",
       " 'spatial_dropout': 0.0,\n",
       " 'dropout': 0.5,\n",
       " 'lr': 0.00011072366477329624,\n",
       " 'optimizer': keras.optimizer_v2.rmsprop.RMSprop,\n",
       " 'units1': 80,\n",
       " 'units2': 80,\n",
       " 'units3': 75}"
      ]
     },
     "execution_count": 26,
     "metadata": {},
     "output_type": "execute_result"
    }
   ],
   "source": [
    "trial = study.best_trial\n",
    "trial.params"
   ]
  },
  {
   "cell_type": "code",
   "execution_count": null,
   "id": "249a61c1",
   "metadata": {},
   "outputs": [],
   "source": []
  },
  {
   "cell_type": "code",
   "execution_count": null,
   "id": "0a968fa7",
   "metadata": {},
   "outputs": [],
   "source": []
  },
  {
   "cell_type": "code",
   "execution_count": null,
   "id": "2cf82208",
   "metadata": {},
   "outputs": [],
   "source": []
  },
  {
   "cell_type": "code",
   "execution_count": null,
   "id": "554ebe9c",
   "metadata": {},
   "outputs": [],
   "source": []
  },
  {
   "cell_type": "code",
   "execution_count": null,
   "id": "42ec19cc",
   "metadata": {},
   "outputs": [],
   "source": []
  },
  {
   "cell_type": "code",
   "execution_count": null,
   "id": "c068fc91",
   "metadata": {},
   "outputs": [],
   "source": []
  },
  {
   "cell_type": "code",
   "execution_count": null,
   "id": "eeb32bf9",
   "metadata": {},
   "outputs": [],
   "source": []
  },
  {
   "cell_type": "code",
   "execution_count": null,
   "id": "66bfaefc",
   "metadata": {},
   "outputs": [],
   "source": []
  },
  {
   "cell_type": "code",
   "execution_count": null,
   "id": "fcb27f02",
   "metadata": {},
   "outputs": [],
   "source": []
  },
  {
   "cell_type": "code",
   "execution_count": null,
   "id": "52f9cbb7",
   "metadata": {},
   "outputs": [],
   "source": []
  }
 ],
 "metadata": {
  "kernelspec": {
   "display_name": "Python 3",
   "language": "python",
   "name": "python3"
  },
  "language_info": {
   "codemirror_mode": {
    "name": "ipython",
    "version": 3
   },
   "file_extension": ".py",
   "mimetype": "text/x-python",
   "name": "python",
   "nbconvert_exporter": "python",
   "pygments_lexer": "ipython3",
   "version": "3.7.11"
  }
 },
 "nbformat": 4,
 "nbformat_minor": 5
}
