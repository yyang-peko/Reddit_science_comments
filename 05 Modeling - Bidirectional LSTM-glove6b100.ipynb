{
 "cells": [
  {
   "cell_type": "code",
   "execution_count": 1,
   "id": "e01f259a",
   "metadata": {},
   "outputs": [
    {
     "name": "stderr",
     "output_type": "stream",
     "text": [
      "[nltk_data] Downloading package stopwords to\n",
      "[nltk_data]     C:\\Users\\Tau\\AppData\\Roaming\\nltk_data...\n",
      "[nltk_data]   Package stopwords is already up-to-date!\n"
     ]
    },
    {
     "data": {
      "text/plain": [
       "True"
      ]
     },
     "execution_count": 1,
     "metadata": {},
     "output_type": "execute_result"
    }
   ],
   "source": [
    "from matplotlib import pyplot as plt\n",
    "import math, os, re, time, random, string\n",
    "import numpy as np, pandas as pd, seaborn as sns\n",
    "from tqdm import tqdm\n",
    "tqdm.pandas()\n",
    "import matplotlib.pyplot as plt\n",
    "plt.style.use('ggplot')\n",
    "import seaborn as sns\n",
    "\n",
    "from collections import defaultdict\n",
    "import wordcloud\n",
    "\n",
    "import warnings\n",
    "warnings.filterwarnings('ignore')\n",
    "\n",
    "import tensorflow as tf\n",
    "\n",
    "from tensorflow.keras.preprocessing.text import Tokenizer\n",
    "from tensorflow.keras.preprocessing.sequence import pad_sequences\n",
    "\n",
    "from sklearn.metrics import *\n",
    "from sklearn.preprocessing import StandardScaler\n",
    "from sklearn.model_selection import *\n",
    "\n",
    "import nltk\n",
    "from nltk.corpus import stopwords\n",
    "nltk.download('stopwords')\n",
    "\n",
    "from tensorflow.keras.layers import *\n",
    "from tensorflow.keras import Input, Model\n",
    "from tensorflow.keras.regularizers import l2\n",
    "from tensorflow.keras.optimizers import *\n",
    "from tensorflow.keras.models import Sequential\n",
    "from tensorflow.keras.callbacks import EarlyStopping, ModelCheckpoint, ReduceLROnPlateau"
   ]
  },
  {
   "cell_type": "markdown",
   "id": "2d060d76",
   "metadata": {},
   "source": [
    "#### Read data"
   ]
  },
  {
   "cell_type": "code",
   "execution_count": 2,
   "id": "19ce4c43",
   "metadata": {},
   "outputs": [],
   "source": [
    "df = pd.read_csv('./raw_data/train_processed.csv', encoding='latin-1')\n",
    "test = pd.read_csv('./raw_data/test_processed.csv', encoding='latin-1')\n",
    "df = df.dropna()\n",
    "test = test.dropna()"
   ]
  },
  {
   "cell_type": "markdown",
   "id": "9e981511",
   "metadata": {},
   "source": [
    "#### Split and organize"
   ]
  },
  {
   "cell_type": "code",
   "execution_count": 3,
   "id": "7bc846c3",
   "metadata": {},
   "outputs": [
    {
     "data": {
      "text/plain": [
       "(6392, 12)"
      ]
     },
     "execution_count": 3,
     "metadata": {},
     "output_type": "execute_result"
    },
    {
     "data": {
      "text/plain": [
       "(14915, 12)"
      ]
     },
     "execution_count": 3,
     "metadata": {},
     "output_type": "execute_result"
    },
    {
     "data": {
      "text/plain": [
       "(7107, 12)"
      ]
     },
     "execution_count": 3,
     "metadata": {},
     "output_type": "execute_result"
    }
   ],
   "source": [
    "train, val = train_test_split(df, test_size=0.7)\n",
    "\n",
    "y_train = train['REMOVED']\n",
    "y_val = val['REMOVED']\n",
    "y_test = test['REMOVED']\n",
    "train.shape\n",
    "val.shape\n",
    "test.shape"
   ]
  },
  {
   "cell_type": "markdown",
   "id": "ed18a1e1",
   "metadata": {},
   "source": [
    "#### Metafeature scaling"
   ]
  },
  {
   "cell_type": "code",
   "execution_count": 4,
   "id": "e74e4800",
   "metadata": {},
   "outputs": [
    {
     "data": {
      "text/plain": [
       "StandardScaler()"
      ]
     },
     "execution_count": 4,
     "metadata": {},
     "output_type": "execute_result"
    },
    {
     "data": {
      "text/plain": [
       "(6392, 6)"
      ]
     },
     "execution_count": 4,
     "metadata": {},
     "output_type": "execute_result"
    },
    {
     "data": {
      "text/plain": [
       "(14915, 6)"
      ]
     },
     "execution_count": 4,
     "metadata": {},
     "output_type": "execute_result"
    },
    {
     "data": {
      "text/plain": [
       "(7107, 6)"
      ]
     },
     "execution_count": 4,
     "metadata": {},
     "output_type": "execute_result"
    }
   ],
   "source": [
    "scaler = StandardScaler()\n",
    "scaler.fit(train.iloc[:, 2:8])\n",
    "\n",
    "train_meta = scaler.transform(train.iloc[:, 2:8])\n",
    "val_meta = scaler.transform(val.iloc[:, 2:8])\n",
    "test_meta = scaler.transform(test.iloc[:, 2:8])\n",
    "\n",
    "train_meta.shape\n",
    "val_meta.shape\n",
    "test_meta.shape"
   ]
  },
  {
   "cell_type": "markdown",
   "id": "a7236b75",
   "metadata": {},
   "source": [
    "#### Tokenizing"
   ]
  },
  {
   "cell_type": "code",
   "execution_count": 43,
   "id": "44804d31",
   "metadata": {},
   "outputs": [],
   "source": [
    "input_dim = 100"
   ]
  },
  {
   "cell_type": "code",
   "execution_count": 44,
   "id": "10c53072",
   "metadata": {},
   "outputs": [
    {
     "name": "stdout",
     "output_type": "stream",
     "text": [
      "18224 unique tokens\n"
     ]
    }
   ],
   "source": [
    "train_text = [i for i in train['stemmed_no_stop']]\n",
    "test_text = [i for i in test['stemmed_no_stop']]\n",
    "val_text = [i for i in val['stemmed_no_stop']]\n",
    "\n",
    "tokenizer = Tokenizer()\n",
    "\n",
    "tokenizer.fit_on_texts(train_text)\n",
    "\n",
    "print(len(tokenizer.word_index), 'unique tokens')\n",
    "\n",
    "train_seq = tokenizer.texts_to_sequences(train_text)\n",
    "test_seq = tokenizer.texts_to_sequences(test_text)\n",
    "val_seq = tokenizer.texts_to_sequences(val_text)\n",
    "\n",
    "train_data = pad_sequences(train_seq, input_dim)\n",
    "val_data = pad_sequences(val_seq, input_dim)\n",
    "test_data = pad_sequences(test_seq, input_dim)"
   ]
  },
  {
   "cell_type": "markdown",
   "id": "5b0cdfcb",
   "metadata": {},
   "source": [
    "#### Embedding"
   ]
  },
  {
   "cell_type": "code",
   "execution_count": 45,
   "id": "dcd1f5db",
   "metadata": {},
   "outputs": [
    {
     "name": "stderr",
     "output_type": "stream",
     "text": [
      "1193517it [01:14, 16057.34it/s]\n"
     ]
    }
   ],
   "source": [
    "embeddings_index = {}\n",
    "with open('./glove/glove.twitter.27B/glove.twitter.27B.100d.txt','r', encoding=\"utf8\") as f:\n",
    "    for line in tqdm(f):\n",
    "        values = line.split()\n",
    "        word = values[0]\n",
    "        coefs = np.asarray(values[1:], dtype='float32')\n",
    "        embeddings_index[word] = coefs\n",
    "f.close()"
   ]
  },
  {
   "cell_type": "code",
   "execution_count": 46,
   "id": "04771cd3",
   "metadata": {},
   "outputs": [
    {
     "name": "stderr",
     "output_type": "stream",
     "text": [
      "100%|██████████| 18224/18224 [00:00<00:00, 535509.34it/s]"
     ]
    },
    {
     "name": "stdout",
     "output_type": "stream",
     "text": [
      "embedded matrix dimension (18225, 100)\n"
     ]
    },
    {
     "name": "stderr",
     "output_type": "stream",
     "text": [
      "\n"
     ]
    }
   ],
   "source": [
    "word_index = tokenizer.word_index\n",
    "\n",
    "#initialize embedding matrix with zeros\n",
    "embedding_matrix = np.zeros((len(word_index) + 1, input_dim))\n",
    "\n",
    "#add glove word encodings to our library\n",
    "for word, i in tqdm(word_index.items()):\n",
    "    embedding_vector = embeddings_index.get(word)\n",
    "    if embedding_vector is not None:\n",
    "        \n",
    "        #words not found in embedding index will be all-zeros.\n",
    "        embedding_matrix[i] = embedding_vector\n",
    "        \n",
    "print(\"embedded matrix dimension\", embedding_matrix.shape)\n",
    "\n",
    "embedding = Embedding(len(word_index) + 1, input_dim, weights = [embedding_matrix],\n",
    "                     input_length = input_dim, trainable = False)  "
   ]
  },
  {
   "cell_type": "markdown",
   "id": "8ab57b75",
   "metadata": {},
   "source": [
    "#### Modeling functions"
   ]
  },
  {
   "cell_type": "code",
   "execution_count": 47,
   "id": "57dbe02b",
   "metadata": {},
   "outputs": [],
   "source": [
    "reduce_lr = ReduceLROnPlateau(monitor = 'val_loss', \n",
    "                              factor = 0.5, \n",
    "                              verbose = 1, \n",
    "                              patience = 4,                        \n",
    "                              min_lr = 0.0001)   \n",
    "    \n",
    "def model_process(model, n_epochs=20):\n",
    "    model.summary()\n",
    "    history = model.fit(x=[train_data, train_meta],\n",
    "                        y=y_train,\n",
    "                        epochs = n_epochs,\n",
    "                        verbose=1,\n",
    "                        callbacks=[reduce_lr],\n",
    "                        validation_data = ([val_data, val_meta], y_val)\n",
    "                       )\n",
    "    \n",
    "    scores = pd.DataFrame(history.history)\n",
    "    scores[['loss', 'val_loss']].plot()\n",
    "    scores[['accuracy', 'val_accuracy']].plot()\n",
    "    \n",
    "    y_pred = (model.predict([test_data, test_meta]) > 0.5).astype(int)\n",
    "    print('\\nf1 score is:', f1_score(y_test, y_pred, average = 'macro'))\n",
    "    print(classification_report(y_test, y_pred))\n",
    "    print(confusion_matrix(y_test, y_pred))"
   ]
  },
  {
   "cell_type": "markdown",
   "id": "1eddfdb8",
   "metadata": {},
   "source": [
    "# BidirectionalLSTM"
   ]
  },
  {
   "cell_type": "code",
   "execution_count": 48,
   "id": "a547829b",
   "metadata": {},
   "outputs": [],
   "source": [
    "def bi_lstm_rnn():\n",
    "    nlp_input = Input(shape = (input_dim,), name = 'nlp_input')\n",
    "    meta_input_train = Input(shape = (6, ), name = 'meta_train')\n",
    "    \n",
    "    emb = embedding(nlp_input)\n",
    "    emb = SpatialDropout1D(0.2)(emb)\n",
    "\n",
    "    nlp_out = Bidirectional(LSTM(80, dropout=0.2))(emb)  \n",
    "\n",
    "    #add meta data    \n",
    "    x = Concatenate()([nlp_out, meta_input_train])\n",
    "    \n",
    "    #add second hidden layer\n",
    "    x = Dropout(0.2)(x)\n",
    "    x = (Dense(64, \n",
    "               activation = 'relu'\n",
    "              ))(x)\n",
    "    \n",
    "    #add output layer\n",
    "    x = Dropout(0.2)(x)\n",
    "    preds = Dense(1, \n",
    "                  activation='sigmoid'\n",
    "                 )(x)\n",
    "    \n",
    "    #compile model\n",
    "    model = Model(inputs=[nlp_input , meta_input_train], outputs = preds)\n",
    "    model.compile(loss = 'binary_crossentropy', optimizer = Adam(0.001), metrics = ['accuracy'])\n",
    "    \n",
    "    return model"
   ]
  },
  {
   "cell_type": "code",
   "execution_count": 49,
   "id": "6b1a15db",
   "metadata": {
    "scrolled": false
   },
   "outputs": [
    {
     "name": "stdout",
     "output_type": "stream",
     "text": [
      "Model: \"model_6\"\n",
      "__________________________________________________________________________________________________\n",
      " Layer (type)                   Output Shape         Param #     Connected to                     \n",
      "==================================================================================================\n",
      " nlp_input (InputLayer)         [(None, 100)]        0           []                               \n",
      "                                                                                                  \n",
      " embedding_5 (Embedding)        (None, 100, 100)     1822500     ['nlp_input[0][0]']              \n",
      "                                                                                                  \n",
      " spatial_dropout1d_7 (SpatialDr  (None, 100, 100)    0           ['embedding_5[0][0]']            \n",
      " opout1D)                                                                                         \n",
      "                                                                                                  \n",
      " bidirectional_7 (Bidirectional  (None, 160)         115840      ['spatial_dropout1d_7[0][0]']    \n",
      " )                                                                                                \n",
      "                                                                                                  \n",
      " meta_train (InputLayer)        [(None, 6)]          0           []                               \n",
      "                                                                                                  \n",
      " concatenate_6 (Concatenate)    (None, 166)          0           ['bidirectional_7[0][0]',        \n",
      "                                                                  'meta_train[0][0]']             \n",
      "                                                                                                  \n",
      " dropout_12 (Dropout)           (None, 166)          0           ['concatenate_6[0][0]']          \n",
      "                                                                                                  \n",
      " dense_12 (Dense)               (None, 64)           10688       ['dropout_12[0][0]']             \n",
      "                                                                                                  \n",
      " dropout_13 (Dropout)           (None, 64)           0           ['dense_12[0][0]']               \n",
      "                                                                                                  \n",
      " dense_13 (Dense)               (None, 1)            65          ['dropout_13[0][0]']             \n",
      "                                                                                                  \n",
      "==================================================================================================\n",
      "Total params: 1,949,093\n",
      "Trainable params: 126,593\n",
      "Non-trainable params: 1,822,500\n",
      "__________________________________________________________________________________________________\n",
      "Epoch 1/10\n",
      "200/200 [==============================] - 32s 134ms/step - loss: 0.5850 - accuracy: 0.6854 - val_loss: 0.5593 - val_accuracy: 0.7105 - lr: 0.0010\n",
      "Epoch 2/10\n",
      "200/200 [==============================] - 27s 138ms/step - loss: 0.5590 - accuracy: 0.7057 - val_loss: 0.5588 - val_accuracy: 0.7101 - lr: 0.0010\n",
      "Epoch 3/10\n",
      "200/200 [==============================] - 25s 127ms/step - loss: 0.5470 - accuracy: 0.7162 - val_loss: 0.5480 - val_accuracy: 0.7114 - lr: 0.0010\n",
      "Epoch 4/10\n",
      "200/200 [==============================] - 28s 141ms/step - loss: 0.5363 - accuracy: 0.7279 - val_loss: 0.5571 - val_accuracy: 0.7112 - lr: 0.0010\n",
      "Epoch 5/10\n",
      "200/200 [==============================] - 26s 130ms/step - loss: 0.5324 - accuracy: 0.7237 - val_loss: 0.5492 - val_accuracy: 0.7110 - lr: 0.0010\n",
      "Epoch 6/10\n",
      "200/200 [==============================] - 26s 133ms/step - loss: 0.5218 - accuracy: 0.7287 - val_loss: 0.5504 - val_accuracy: 0.7175 - lr: 0.0010\n",
      "Epoch 7/10\n",
      "200/200 [==============================] - ETA: 0s - loss: 0.5155 - accuracy: 0.7401\n",
      "Epoch 00007: ReduceLROnPlateau reducing learning rate to 0.0005000000237487257.\n",
      "200/200 [==============================] - 26s 130ms/step - loss: 0.5155 - accuracy: 0.7401 - val_loss: 0.5503 - val_accuracy: 0.7077 - lr: 0.0010\n",
      "Epoch 8/10\n",
      "200/200 [==============================] - 14s 68ms/step - loss: 0.5014 - accuracy: 0.7480 - val_loss: 0.5622 - val_accuracy: 0.7124 - lr: 5.0000e-04\n",
      "Epoch 9/10\n",
      "200/200 [==============================] - 14s 69ms/step - loss: 0.4936 - accuracy: 0.7514 - val_loss: 0.5607 - val_accuracy: 0.7067 - lr: 5.0000e-04\n",
      "Epoch 10/10\n",
      "200/200 [==============================] - 14s 69ms/step - loss: 0.4834 - accuracy: 0.7619 - val_loss: 0.5610 - val_accuracy: 0.7157 - lr: 5.0000e-04\n",
      "\n",
      "f1 score is: 0.6532932951692412\n",
      "              precision    recall  f1-score   support\n",
      "\n",
      "           0       0.76      0.84      0.80      4808\n",
      "           1       0.58      0.45      0.51      2299\n",
      "\n",
      "    accuracy                           0.72      7107\n",
      "   macro avg       0.67      0.65      0.65      7107\n",
      "weighted avg       0.70      0.72      0.71      7107\n",
      "\n",
      "[[4052  756]\n",
      " [1264 1035]]\n"
     ]
    },
    {
     "data": {
      "image/png": "[encoded data removed]",
      "text/plain": [
       "<Figure size 432x288 with 1 Axes>"
      ]
     },
     "metadata": {},
     "output_type": "display_data"
    },
    {
     "data": {
      "image/png": "[encoded data removed]",
      "text/plain": [
       "<Figure size 432x288 with 1 Axes>"
      ]
     },
     "metadata": {},
     "output_type": "display_data"
    }
   ],
   "source": [
    "m1 = bi_lstm_rnn()\n",
    "model_process(m1, 10)"
   ]
  },
  {
   "cell_type": "code",
   "execution_count": null,
   "id": "26a243d8",
   "metadata": {},
   "outputs": [],
   "source": []
  },
  {
   "cell_type": "code",
   "execution_count": null,
   "id": "77ddf799",
   "metadata": {},
   "outputs": [],
   "source": []
  },
  {
   "cell_type": "code",
   "execution_count": null,
   "id": "80ba3c60",
   "metadata": {},
   "outputs": [],
   "source": []
  },
  {
   "cell_type": "code",
   "execution_count": null,
   "id": "35d0522b",
   "metadata": {},
   "outputs": [],
   "source": []
  },
  {
   "cell_type": "code",
   "execution_count": null,
   "id": "78dcd000",
   "metadata": {},
   "outputs": [],
   "source": []
  },
  {
   "cell_type": "code",
   "execution_count": null,
   "id": "249a61c1",
   "metadata": {},
   "outputs": [],
   "source": []
  },
  {
   "cell_type": "code",
   "execution_count": null,
   "id": "0a968fa7",
   "metadata": {},
   "outputs": [],
   "source": []
  },
  {
   "cell_type": "code",
   "execution_count": null,
   "id": "2cf82208",
   "metadata": {},
   "outputs": [],
   "source": []
  },
  {
   "cell_type": "code",
   "execution_count": null,
   "id": "554ebe9c",
   "metadata": {},
   "outputs": [],
   "source": []
  },
  {
   "cell_type": "code",
   "execution_count": null,
   "id": "42ec19cc",
   "metadata": {},
   "outputs": [],
   "source": []
  },
  {
   "cell_type": "code",
   "execution_count": null,
   "id": "c068fc91",
   "metadata": {},
   "outputs": [],
   "source": []
  },
  {
   "cell_type": "code",
   "execution_count": null,
   "id": "eeb32bf9",
   "metadata": {},
   "outputs": [],
   "source": []
  },
  {
   "cell_type": "code",
   "execution_count": null,
   "id": "66bfaefc",
   "metadata": {},
   "outputs": [],
   "source": []
  },
  {
   "cell_type": "code",
   "execution_count": null,
   "id": "fcb27f02",
   "metadata": {},
   "outputs": [],
   "source": []
  },
  {
   "cell_type": "code",
   "execution_count": null,
   "id": "52f9cbb7",
   "metadata": {},
   "outputs": [],
   "source": []
  }
 ],
 "metadata": {
  "kernelspec": {
   "display_name": "Python 3",
   "language": "python",
   "name": "python3"
  },
  "language_info": {
   "codemirror_mode": {
    "name": "ipython",
    "version": 3
   },
   "file_extension": ".py",
   "mimetype": "text/x-python",
   "name": "python",
   "nbconvert_exporter": "python",
   "pygments_lexer": "ipython3",
   "version": "3.7.11"
  }
 },
 "nbformat": 4,
 "nbformat_minor": 5
}
