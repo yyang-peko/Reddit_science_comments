{
 "cells": [
  {
   "cell_type": "code",
   "execution_count": 1,
   "id": "3b92f5fb",
   "metadata": {},
   "outputs": [
    {
     "name": "stderr",
     "output_type": "stream",
     "text": [
      "[nltk_data] Downloading package stopwords to\n",
      "[nltk_data]     C:\\Users\\Tau\\AppData\\Roaming\\nltk_data...\n",
      "[nltk_data]   Package stopwords is already up-to-date!\n"
     ]
    },
    {
     "data": {
      "text/plain": [
       "True"
      ]
     },
     "execution_count": 1,
     "metadata": {},
     "output_type": "execute_result"
    }
   ],
   "source": [
    "from matplotlib import pyplot as plt\n",
    "import math, os, re, time, random, string\n",
    "import numpy as np, pandas as pd, seaborn as sns\n",
    "from tqdm import tqdm\n",
    "tqdm.pandas()\n",
    "import matplotlib.pyplot as plt\n",
    "plt.style.use('ggplot')\n",
    "import seaborn as sns\n",
    "\n",
    "from collections import defaultdict\n",
    "import wordcloud\n",
    "\n",
    "import warnings\n",
    "warnings.filterwarnings('ignore')\n",
    "\n",
    "import tensorflow as tf\n",
    "\n",
    "from tensorflow.keras.preprocessing.text import Tokenizer\n",
    "from tensorflow.keras.preprocessing.sequence import pad_sequences\n",
    "\n",
    "from sklearn.metrics import *\n",
    "from sklearn.preprocessing import StandardScaler\n",
    "from sklearn.model_selection import *\n",
    "\n",
    "import nltk\n",
    "from nltk.corpus import stopwords\n",
    "nltk.download('stopwords')\n",
    "\n",
    "from tensorflow.keras.layers import *\n",
    "from tensorflow.keras import Input, Model\n",
    "from tensorflow.keras.regularizers import l2\n",
    "from tensorflow.keras.optimizers import *\n",
    "from tensorflow.keras.models import Sequential\n",
    "from tensorflow.keras.callbacks import EarlyStopping, ModelCheckpoint, ReduceLROnPlateau"
   ]
  },
  {
   "cell_type": "markdown",
   "id": "bb955928",
   "metadata": {},
   "source": [
    "#### Read data"
   ]
  },
  {
   "cell_type": "code",
   "execution_count": 2,
   "id": "59b79a85",
   "metadata": {},
   "outputs": [],
   "source": [
    "df = pd.read_csv('./raw_data/train_processed.csv', encoding='latin-1')\n",
    "test = pd.read_csv('./raw_data/test_processed.csv', encoding='latin-1')\n",
    "df = df.dropna()\n",
    "test = test.dropna()"
   ]
  },
  {
   "cell_type": "markdown",
   "id": "ee212838",
   "metadata": {},
   "source": [
    "#### Split and organize"
   ]
  },
  {
   "cell_type": "code",
   "execution_count": 3,
   "id": "fbf2ff1f",
   "metadata": {},
   "outputs": [
    {
     "data": {
      "text/plain": [
       "(6392, 12)"
      ]
     },
     "execution_count": 3,
     "metadata": {},
     "output_type": "execute_result"
    },
    {
     "data": {
      "text/plain": [
       "(14915, 12)"
      ]
     },
     "execution_count": 3,
     "metadata": {},
     "output_type": "execute_result"
    },
    {
     "data": {
      "text/plain": [
       "(7107, 12)"
      ]
     },
     "execution_count": 3,
     "metadata": {},
     "output_type": "execute_result"
    }
   ],
   "source": [
    "train, val = train_test_split(df, test_size=0.7)\n",
    "\n",
    "y_train = train['REMOVED']\n",
    "y_val = val['REMOVED']\n",
    "y_test = test['REMOVED']\n",
    "train.shape\n",
    "val.shape\n",
    "test.shape"
   ]
  },
  {
   "cell_type": "markdown",
   "id": "e4d454ef",
   "metadata": {},
   "source": [
    "#### Metafeature scaling"
   ]
  },
  {
   "cell_type": "code",
   "execution_count": 4,
   "id": "e643e5ff",
   "metadata": {},
   "outputs": [
    {
     "data": {
      "text/plain": [
       "StandardScaler()"
      ]
     },
     "execution_count": 4,
     "metadata": {},
     "output_type": "execute_result"
    },
    {
     "data": {
      "text/plain": [
       "(6392, 6)"
      ]
     },
     "execution_count": 4,
     "metadata": {},
     "output_type": "execute_result"
    },
    {
     "data": {
      "text/plain": [
       "(14915, 6)"
      ]
     },
     "execution_count": 4,
     "metadata": {},
     "output_type": "execute_result"
    },
    {
     "data": {
      "text/plain": [
       "(7107, 6)"
      ]
     },
     "execution_count": 4,
     "metadata": {},
     "output_type": "execute_result"
    }
   ],
   "source": [
    "scaler = StandardScaler()\n",
    "scaler.fit(train.iloc[:, 2:8])\n",
    "\n",
    "train_meta = scaler.transform(train.iloc[:, 2:8])\n",
    "val_meta = scaler.transform(val.iloc[:, 2:8])\n",
    "test_meta = scaler.transform(test.iloc[:, 2:8])\n",
    "\n",
    "train_meta.shape\n",
    "val_meta.shape\n",
    "test_meta.shape"
   ]
  },
  {
   "cell_type": "markdown",
   "id": "10d24726",
   "metadata": {},
   "source": [
    "#### Tokenizing"
   ]
  },
  {
   "cell_type": "code",
   "execution_count": 5,
   "id": "b10edbbe",
   "metadata": {},
   "outputs": [],
   "source": [
    "input_dim = 200"
   ]
  },
  {
   "cell_type": "code",
   "execution_count": 6,
   "id": "b0f7d343",
   "metadata": {},
   "outputs": [
    {
     "name": "stdout",
     "output_type": "stream",
     "text": [
      "17822 unique tokens\n"
     ]
    }
   ],
   "source": [
    "train_text = [i for i in train['stemmed_no_stop']]\n",
    "test_text = [i for i in test['stemmed_no_stop']]\n",
    "val_text = [i for i in val['stemmed_no_stop']]\n",
    "\n",
    "tokenizer = Tokenizer()\n",
    "\n",
    "tokenizer.fit_on_texts(train_text)\n",
    "\n",
    "print(len(tokenizer.word_index), 'unique tokens')\n",
    "\n",
    "train_seq = tokenizer.texts_to_sequences(train_text)\n",
    "test_seq = tokenizer.texts_to_sequences(test_text)\n",
    "val_seq = tokenizer.texts_to_sequences(val_text)\n",
    "\n",
    "train_data = pad_sequences(train_seq, input_dim)\n",
    "val_data = pad_sequences(val_seq, input_dim)\n",
    "test_data = pad_sequences(test_seq, input_dim)"
   ]
  },
  {
   "cell_type": "markdown",
   "id": "bf5f9fbb",
   "metadata": {},
   "source": [
    "#### Embedding"
   ]
  },
  {
   "cell_type": "code",
   "execution_count": 7,
   "id": "52be242a",
   "metadata": {},
   "outputs": [
    {
     "name": "stderr",
     "output_type": "stream",
     "text": [
      "400001it [00:29, 13676.37it/s]\n"
     ]
    }
   ],
   "source": [
    "embeddings_index = {}\n",
    "with open('./glove/glove.6B/glove.6B.200d.txt','r', encoding=\"utf8\") as f:\n",
    "    for line in tqdm(f):\n",
    "        values = line.split()\n",
    "        word = values[0]\n",
    "        coefs = np.asarray(values[1:], dtype='float32')\n",
    "        embeddings_index[word] = coefs\n",
    "f.close()"
   ]
  },
  {
   "cell_type": "code",
   "execution_count": 8,
   "id": "153d9980",
   "metadata": {},
   "outputs": [
    {
     "name": "stderr",
     "output_type": "stream",
     "text": [
      "100%|██████████| 17822/17822 [00:00<00:00, 508737.84it/s]"
     ]
    },
    {
     "name": "stdout",
     "output_type": "stream",
     "text": [
      "embedded matrix dimension (17823, 200)\n"
     ]
    },
    {
     "name": "stderr",
     "output_type": "stream",
     "text": [
      "\n"
     ]
    }
   ],
   "source": [
    "word_index = tokenizer.word_index\n",
    "\n",
    "#initialize embedding matrix with zeros\n",
    "embedding_matrix = np.zeros((len(word_index) + 1, input_dim))\n",
    "\n",
    "#add glove word encodings to our library\n",
    "for word, i in tqdm(word_index.items()):\n",
    "    embedding_vector = embeddings_index.get(word)\n",
    "    if embedding_vector is not None:\n",
    "        \n",
    "        #words not found in embedding index will be all-zeros.\n",
    "        embedding_matrix[i] = embedding_vector\n",
    "        \n",
    "print(\"embedded matrix dimension\", embedding_matrix.shape)\n",
    "\n",
    "embedding = Embedding(len(word_index) + 1, input_dim, weights = [embedding_matrix],\n",
    "                     input_length = 200, trainable = False)  "
   ]
  },
  {
   "cell_type": "markdown",
   "id": "446fa0e2",
   "metadata": {},
   "source": [
    "#### Modeling functions"
   ]
  },
  {
   "cell_type": "code",
   "execution_count": 12,
   "id": "77fe6c7b",
   "metadata": {},
   "outputs": [],
   "source": [
    "reduce_lr = ReduceLROnPlateau(monitor = 'val_loss', \n",
    "                              factor = 0.5, \n",
    "                              verbose = 1, \n",
    "                              patience = 4,                        \n",
    "                              min_lr = 0.0001)   \n",
    "    \n",
    "def model_process(model, n_epochs=20):\n",
    "    model.summary()\n",
    "    history = model.fit(x=[train_data, train_meta],\n",
    "                        y=y_train,\n",
    "                        epochs = n_epochs,\n",
    "                        verbose=1,\n",
    "                        callbacks=[reduce_lr],\n",
    "                        validation_data = ([val_data, val_meta], y_val)\n",
    "                       )\n",
    "    \n",
    "    scores = pd.DataFrame(history.history)\n",
    "    scores[['loss', 'val_loss']].plot()\n",
    "    scores[['accuracy', 'val_accuracy']].plot()\n",
    "    \n",
    "    y_pred = (model.predict([test_data, test_meta]) > 0.5).astype(int)\n",
    "    print('\\nf1 score is:', f1_score(y_test, y_pred, average = 'macro'))\n",
    "    print(classification_report(y_test, y_pred))\n",
    "    print(confusion_matrix(y_test, y_pred))"
   ]
  },
  {
   "cell_type": "markdown",
   "id": "7fa646e2",
   "metadata": {},
   "source": [
    "# LSTM"
   ]
  },
  {
   "cell_type": "code",
   "execution_count": 13,
   "id": "2a35d12e",
   "metadata": {},
   "outputs": [],
   "source": [
    "def lstm_rnn():\n",
    "    nlp_input = Input(shape = (input_dim,), name = 'nlp_input')\n",
    "    meta_input_train = Input(shape = (6, ), name = 'meta_train')\n",
    "    \n",
    "    emb = embedding(nlp_input)\n",
    "    emb = SpatialDropout1D(0.2)(emb)\n",
    "\n",
    "    nlp_out = LSTM(100, dropout=0.2, return_sequences=True)(emb)  \n",
    "    nlp_out = SpatialDropout1D(0.2)(nlp_out)\n",
    "    nlp_out = LSTM(50, dropout=0.2)(nlp_out)\n",
    "     \n",
    "    #add meta data    \n",
    "    x = Concatenate()([nlp_out, meta_input_train])\n",
    "    \n",
    "    #add second hidden layer\n",
    "    x = Dropout(0.2)(x)\n",
    "    x = (Dense(32, \n",
    "               activation = 'relu'\n",
    "              ))(x)\n",
    "    \n",
    "    #add output layer\n",
    "    x = Dropout(0.2)(x)\n",
    "    preds = Dense(1, \n",
    "                  activation='sigmoid'\n",
    "                 )(x)\n",
    "    \n",
    "    #compile model\n",
    "    model = Model(inputs=[nlp_input , meta_input_train], outputs = preds)\n",
    "    model.compile(loss = 'binary_crossentropy', optimizer = Adam(0.004), metrics = ['accuracy'])\n",
    "    \n",
    "    return model"
   ]
  },
  {
   "cell_type": "code",
   "execution_count": 14,
   "id": "3e5e5515",
   "metadata": {
    "scrolled": false
   },
   "outputs": [
    {
     "name": "stdout",
     "output_type": "stream",
     "text": [
      "Model: \"model_1\"\n",
      "__________________________________________________________________________________________________\n",
      " Layer (type)                   Output Shape         Param #     Connected to                     \n",
      "==================================================================================================\n",
      " nlp_input (InputLayer)         [(None, 200)]        0           []                               \n",
      "                                                                                                  \n",
      " embedding (Embedding)          (None, 200, 200)     3564600     ['nlp_input[0][0]']              \n",
      "                                                                                                  \n",
      " spatial_dropout1d_2 (SpatialDr  (None, 200, 200)    0           ['embedding[1][0]']              \n",
      " opout1D)                                                                                         \n",
      "                                                                                                  \n",
      " lstm_2 (LSTM)                  (None, 200, 100)     120400      ['spatial_dropout1d_2[0][0]']    \n",
      "                                                                                                  \n",
      " spatial_dropout1d_3 (SpatialDr  (None, 200, 100)    0           ['lstm_2[0][0]']                 \n",
      " opout1D)                                                                                         \n",
      "                                                                                                  \n",
      " lstm_3 (LSTM)                  (None, 50)           30200       ['spatial_dropout1d_3[0][0]']    \n",
      "                                                                                                  \n",
      " meta_train (InputLayer)        [(None, 6)]          0           []                               \n",
      "                                                                                                  \n",
      " concatenate_1 (Concatenate)    (None, 56)           0           ['lstm_3[0][0]',                 \n",
      "                                                                  'meta_train[0][0]']             \n",
      "                                                                                                  \n",
      " dropout_2 (Dropout)            (None, 56)           0           ['concatenate_1[0][0]']          \n",
      "                                                                                                  \n",
      " dense_2 (Dense)                (None, 32)           1824        ['dropout_2[0][0]']              \n",
      "                                                                                                  \n",
      " dropout_3 (Dropout)            (None, 32)           0           ['dense_2[0][0]']                \n",
      "                                                                                                  \n",
      " dense_3 (Dense)                (None, 1)            33          ['dropout_3[0][0]']              \n",
      "                                                                                                  \n",
      "==================================================================================================\n",
      "Total params: 3,717,057\n",
      "Trainable params: 152,457\n",
      "Non-trainable params: 3,564,600\n",
      "__________________________________________________________________________________________________\n",
      "Epoch 1/10\n",
      "200/200 [==============================] - 56s 265ms/step - loss: 0.5922 - accuracy: 0.6818 - val_loss: 0.5552 - val_accuracy: 0.7082 - lr: 0.0040\n",
      "Epoch 2/10\n",
      "200/200 [==============================] - 53s 264ms/step - loss: 0.5833 - accuracy: 0.6934 - val_loss: 0.5638 - val_accuracy: 0.6945 - lr: 0.0040\n",
      "Epoch 3/10\n",
      "200/200 [==============================] - 50s 250ms/step - loss: 0.5601 - accuracy: 0.7060 - val_loss: 0.5464 - val_accuracy: 0.7146 - lr: 0.0040\n",
      "Epoch 4/10\n",
      "200/200 [==============================] - 40s 202ms/step - loss: 0.5439 - accuracy: 0.7207 - val_loss: 0.5481 - val_accuracy: 0.7149 - lr: 0.0040\n",
      "Epoch 5/10\n",
      "200/200 [==============================] - 41s 206ms/step - loss: 0.5342 - accuracy: 0.7234 - val_loss: 0.5551 - val_accuracy: 0.7104 - lr: 0.0040\n",
      "Epoch 6/10\n",
      "200/200 [==============================] - 45s 224ms/step - loss: 0.5108 - accuracy: 0.7444 - val_loss: 0.5657 - val_accuracy: 0.7112 - lr: 0.0040\n",
      "Epoch 7/10\n",
      "200/200 [==============================] - ETA: 0s - loss: 0.4937 - accuracy: 0.7519\n",
      "Epoch 00007: ReduceLROnPlateau reducing learning rate to 0.0020000000949949026.\n",
      "200/200 [==============================] - 40s 200ms/step - loss: 0.4937 - accuracy: 0.7519 - val_loss: 0.5694 - val_accuracy: 0.6910 - lr: 0.0040\n",
      "Epoch 8/10\n",
      "200/200 [==============================] - 41s 206ms/step - loss: 0.4544 - accuracy: 0.7829 - val_loss: 0.5721 - val_accuracy: 0.6992 - lr: 0.0020\n",
      "Epoch 9/10\n",
      "200/200 [==============================] - 43s 213ms/step - loss: 0.4294 - accuracy: 0.7946 - val_loss: 0.5974 - val_accuracy: 0.6851 - lr: 0.0020\n",
      "Epoch 10/10\n",
      "200/200 [==============================] - 42s 208ms/step - loss: 0.3988 - accuracy: 0.8109 - val_loss: 0.6582 - val_accuracy: 0.6973 - lr: 0.0020\n",
      "\n",
      "f1 score is: 0.6421363269095557\n",
      "              precision    recall  f1-score   support\n",
      "\n",
      "           0       0.76      0.84      0.80      4808\n",
      "           1       0.56      0.43      0.49      2299\n",
      "\n",
      "    accuracy                           0.71      7107\n",
      "   macro avg       0.66      0.64      0.64      7107\n",
      "weighted avg       0.69      0.71      0.70      7107\n",
      "\n",
      "[[4043  765]\n",
      " [1309  990]]\n"
     ]
    },
    {
     "data": {
      "image/png": "[encoded data removed]",
      "text/plain": [
       "<Figure size 432x288 with 1 Axes>"
      ]
     },
     "metadata": {},
     "output_type": "display_data"
    },
    {
     "data": {
      "image/png": "[encoded data removed]",
      "text/plain": [
       "<Figure size 432x288 with 1 Axes>"
      ]
     },
     "metadata": {},
     "output_type": "display_data"
    }
   ],
   "source": [
    "m2 = lstm_rnn()\n",
    "model_process(m2, 10)"
   ]
  }
 ],
 "metadata": {
  "kernelspec": {
   "display_name": "Python 3",
   "language": "python",
   "name": "python3"
  },
  "language_info": {
   "codemirror_mode": {
    "name": "ipython",
    "version": 3
   },
   "file_extension": ".py",
   "mimetype": "text/x-python",
   "name": "python",
   "nbconvert_exporter": "python",
   "pygments_lexer": "ipython3",
   "version": "3.7.11"
  }
 },
 "nbformat": 4,
 "nbformat_minor": 5
}
