{
 "cells": [
  {
   "cell_type": "code",
   "execution_count": 24,
   "id": "55a4852f",
   "metadata": {},
   "outputs": [
    {
     "name": "stderr",
     "output_type": "stream",
     "text": [
      "[nltk_data] Downloading package stopwords to\n",
      "[nltk_data]     C:\\Users\\Tau\\AppData\\Roaming\\nltk_data...\n",
      "[nltk_data]   Package stopwords is already up-to-date!\n"
     ]
    },
    {
     "data": {
      "text/plain": [
       "True"
      ]
     },
     "execution_count": 24,
     "metadata": {},
     "output_type": "execute_result"
    }
   ],
   "source": [
    "from matplotlib import pyplot as plt\n",
    "import math, os, re, time, random, string\n",
    "import numpy as np, pandas as pd, seaborn as sns\n",
    "from tqdm import tqdm\n",
    "tqdm.pandas()\n",
    "import matplotlib.pyplot as plt\n",
    "plt.style.use('ggplot')\n",
    "import seaborn as sns\n",
    "\n",
    "from collections import defaultdict\n",
    "import wordcloud\n",
    "\n",
    "import warnings\n",
    "warnings.filterwarnings('ignore')\n",
    "\n",
    "import tensorflow as tf\n",
    "\n",
    "from tensorflow.keras.preprocessing.text import Tokenizer\n",
    "from tensorflow.keras.preprocessing.sequence import pad_sequences\n",
    "\n",
    "from sklearn.metrics import *\n",
    "from sklearn.preprocessing import StandardScaler\n",
    "from sklearn.model_selection import *\n",
    "\n",
    "import nltk\n",
    "from nltk.corpus import stopwords\n",
    "nltk.download('stopwords')\n",
    "\n",
    "from tensorflow.keras.layers import *\n",
    "from tensorflow.keras import Input, Model\n",
    "from tensorflow.keras.regularizers import l2\n",
    "from tensorflow.keras.optimizers import *\n",
    "from tensorflow.keras.models import Sequential\n",
    "from tensorflow.keras.callbacks import EarlyStopping, ModelCheckpoint, ReduceLROnPlateau\n",
    "import tensorflow_addons as tfa\n",
    "\n",
    "from transformers import TFAutoModel, AutoTokenizer"
   ]
  },
  {
   "cell_type": "code",
   "execution_count": 33,
   "id": "fda1f15c",
   "metadata": {},
   "outputs": [],
   "source": [
    "df = pd.read_csv('./raw_data/reddit_train.csv', encoding='latin-1')\n",
    "test = pd.read_csv('./raw_data/reddit_test.csv', encoding='latin-1')"
   ]
  },
  {
   "cell_type": "code",
   "execution_count": 34,
   "id": "3b5c6a7a",
   "metadata": {},
   "outputs": [
    {
     "data": {
      "text/plain": [
       "(6400, 4)"
      ]
     },
     "execution_count": 34,
     "metadata": {},
     "output_type": "execute_result"
    },
    {
     "data": {
      "text/plain": [
       "(14936, 4)"
      ]
     },
     "execution_count": 34,
     "metadata": {},
     "output_type": "execute_result"
    },
    {
     "data": {
      "text/plain": [
       "(7111, 4)"
      ]
     },
     "execution_count": 34,
     "metadata": {},
     "output_type": "execute_result"
    }
   ],
   "source": [
    "train, val = train_test_split(df, test_size=0.7)\n",
    "train.shape\n",
    "val.shape\n",
    "test.shape"
   ]
  },
  {
   "cell_type": "code",
   "execution_count": 35,
   "id": "0cad1e1b",
   "metadata": {},
   "outputs": [
    {
     "name": "stdout",
     "output_type": "stream",
     "text": [
      "<class 'pandas.core.frame.DataFrame'>\n",
      "Int64Index: 6400 entries, 9334 to 1502\n",
      "Data columns (total 4 columns):\n",
      " #   Column      Non-Null Count  Dtype \n",
      "---  ------      --------------  ----- \n",
      " 0   Unnamed: 0  6400 non-null   int64 \n",
      " 1   X           6400 non-null   int64 \n",
      " 2   BODY        6400 non-null   object\n",
      " 3   REMOVED     6400 non-null   int64 \n",
      "dtypes: int64(3), object(1)\n",
      "memory usage: 250.0+ KB\n"
     ]
    }
   ],
   "source": [
    "train.info()"
   ]
  },
  {
   "cell_type": "code",
   "execution_count": 36,
   "id": "cefd5da7",
   "metadata": {},
   "outputs": [],
   "source": [
    "def features(df):\n",
    "    df['word count'] = df['BODY'].apply(lambda x: len(x.split())) #count number of words in text\n",
    "    df['unique word count'] = df['BODY'].apply(lambda x: len(set(x.split()))) #count unique words\n",
    "    df['char count'] = df['BODY'].apply(lambda x: len(x)) #count number of characters\n",
    "    df['url count'] = df['BODY'].apply(lambda x: len([i for i in str(x) if i == 'http'])) #count number of urls\n",
    "    df['stopword count'] = df['BODY'].apply(lambda x: len([i for i in x.lower().split() if i in wordcloud.STOPWORDS]))\n",
    "    df['punctuation count'] = df['BODY'].apply(lambda x: len([i for i in str(x) if i in string.punctuation]))\n",
    "    \n",
    "features(train)\n",
    "features(test)\n",
    "features(val)"
   ]
  },
  {
   "cell_type": "code",
   "execution_count": 37,
   "id": "8f8cbd45",
   "metadata": {},
   "outputs": [],
   "source": [
    "y_train = train['REMOVED']\n",
    "y_val = val['REMOVED']\n",
    "y_test = test['REMOVED']"
   ]
  },
  {
   "cell_type": "markdown",
   "id": "94aca7da",
   "metadata": {},
   "source": [
    "### Tokenize"
   ]
  },
  {
   "cell_type": "code",
   "execution_count": 38,
   "id": "c3c40154",
   "metadata": {},
   "outputs": [],
   "source": [
    "train_text = [i for i in train['BODY']]\n",
    "test_text = [i for i in test['BODY']]\n",
    "val_text = [i for i in val['BODY']]"
   ]
  },
  {
   "cell_type": "code",
   "execution_count": 39,
   "id": "c8946992",
   "metadata": {},
   "outputs": [
    {
     "name": "stdout",
     "output_type": "stream",
     "text": [
      "22957 unique tokens\n"
     ]
    }
   ],
   "source": [
    "tokenizer = Tokenizer()\n",
    "\n",
    "tokenizer.fit_on_texts(train_text)\n",
    "\n",
    "print(len(tokenizer.word_index), 'unique tokens')\n",
    "\n",
    "train_seq = tokenizer.texts_to_sequences(train_text)\n",
    "test_seq = tokenizer.texts_to_sequences(test_text)\n",
    "val_seq = tokenizer.texts_to_sequences(val_text)"
   ]
  },
  {
   "cell_type": "code",
   "execution_count": 40,
   "id": "f80a41af",
   "metadata": {},
   "outputs": [],
   "source": [
    "train_data = pad_sequences(train_seq, 200)\n",
    "val_data = pad_sequences(val_seq, 200)\n",
    "test_data = pad_sequences(test_seq, 200)"
   ]
  },
  {
   "cell_type": "code",
   "execution_count": 41,
   "id": "29eae6a2",
   "metadata": {},
   "outputs": [
    {
     "data": {
      "text/plain": [
       "(6400, 200)"
      ]
     },
     "execution_count": 41,
     "metadata": {},
     "output_type": "execute_result"
    },
    {
     "data": {
      "text/plain": [
       "(14936, 200)"
      ]
     },
     "execution_count": 41,
     "metadata": {},
     "output_type": "execute_result"
    },
    {
     "data": {
      "text/plain": [
       "(7111, 200)"
      ]
     },
     "execution_count": 41,
     "metadata": {},
     "output_type": "execute_result"
    }
   ],
   "source": [
    "train_data.shape\n",
    "val_data.shape\n",
    "test_data.shape"
   ]
  },
  {
   "cell_type": "markdown",
   "id": "c82e3890",
   "metadata": {},
   "source": [
    "### meta feature scaling"
   ]
  },
  {
   "cell_type": "code",
   "execution_count": 42,
   "id": "18f6c213",
   "metadata": {},
   "outputs": [
    {
     "data": {
      "text/plain": [
       "StandardScaler()"
      ]
     },
     "execution_count": 42,
     "metadata": {},
     "output_type": "execute_result"
    }
   ],
   "source": [
    "scaler = StandardScaler()\n",
    "scaler.fit(train.iloc[:, 4:])\n",
    "\n",
    "train_meta = scaler.transform(train.iloc[:, 4:])\n",
    "val_meta = scaler.transform(val.iloc[:, 4:])\n",
    "test_meta = scaler.transform(test.iloc[:, 4:])"
   ]
  },
  {
   "cell_type": "code",
   "execution_count": 43,
   "id": "e45da4cd",
   "metadata": {},
   "outputs": [
    {
     "data": {
      "text/plain": [
       "(6400, 6)"
      ]
     },
     "execution_count": 43,
     "metadata": {},
     "output_type": "execute_result"
    },
    {
     "data": {
      "text/plain": [
       "(14936, 6)"
      ]
     },
     "execution_count": 43,
     "metadata": {},
     "output_type": "execute_result"
    },
    {
     "data": {
      "text/plain": [
       "(7111, 6)"
      ]
     },
     "execution_count": 43,
     "metadata": {},
     "output_type": "execute_result"
    }
   ],
   "source": [
    "train_meta.shape\n",
    "val_meta.shape\n",
    "test_meta.shape"
   ]
  },
  {
   "cell_type": "markdown",
   "id": "63865fb3",
   "metadata": {},
   "source": [
    "### modeling functions"
   ]
  },
  {
   "cell_type": "code",
   "execution_count": 44,
   "id": "2fe5d836",
   "metadata": {},
   "outputs": [],
   "source": [
    "def loss_acc_plot(history):\n",
    "    scores = pd.DataFrame(history.history)\n",
    "    scores[['loss', 'val_loss']].plot();\n",
    "    scores[['accuracy', 'val_accuracy']].plot();\n",
    "\n",
    "def test_model(model):\n",
    "    y_pred = (model.predict([test_data, test_meta]) > 0.5).astype(int)\n",
    "    print('\\nf1 score is:', f1_score(y_test, y_pred, average='macro'))\n",
    "    print(classification_report(y_test, y_pred))\n",
    "    print(confusion_matrix(y_test, y_pred))\n",
    "\n",
    "reduce_lr = ReduceLROnPlateau(monitor = 'val_loss', \n",
    "                              factor = 0.5, \n",
    "                              verbose = 1, \n",
    "                              patience = 4,                        \n",
    "                              min_lr = 0.0001)   \n",
    "    \n",
    "def model_process(model, n_epochs=20):\n",
    "    model.summary()\n",
    "    \n",
    "    history = model.fit(x=[train_data, train_meta],\n",
    "                        y=y_train,\n",
    "                        epochs = n_epochs,\n",
    "                        verbose=1,\n",
    "                        callbacks=[reduce_lr],\n",
    "                        validation_data = ([val_data, val_meta], y_val)\n",
    "                       )\n",
    "    \n",
    "    loss_acc_plot(history)\n",
    "    test_model(model)"
   ]
  },
  {
   "cell_type": "code",
   "execution_count": 45,
   "id": "37ebcdf3",
   "metadata": {},
   "outputs": [
    {
     "name": "stderr",
     "output_type": "stream",
     "text": [
      "400001it [00:20, 19778.33it/s]\n"
     ]
    }
   ],
   "source": [
    "embeddings_index = {}\n",
    "with open('glove.6B.200d.txt','r', encoding=\"utf8\") as f:\n",
    "    for line in tqdm(f):\n",
    "        values = line.split()\n",
    "        word = values[0]\n",
    "        coefs = np.asarray(values[1:], dtype='float32')\n",
    "        embeddings_index[word] = coefs\n",
    "f.close()"
   ]
  },
  {
   "cell_type": "code",
   "execution_count": 46,
   "id": "28d9839f",
   "metadata": {},
   "outputs": [
    {
     "name": "stderr",
     "output_type": "stream",
     "text": [
      "100%|██████████| 22957/22957 [00:00<00:00, 458718.28it/s]"
     ]
    },
    {
     "name": "stdout",
     "output_type": "stream",
     "text": [
      "Our embedded matrix is of dimension (22958, 200)\n"
     ]
    },
    {
     "name": "stderr",
     "output_type": "stream",
     "text": [
      "\n"
     ]
    }
   ],
   "source": [
    "EMBEDDING_DIM = 200  \n",
    "word_index = tokenizer.word_index\n",
    "\n",
    "#initialize embedding matrix with zeros\n",
    "embedding_matrix = np.zeros((len(word_index) + 1, EMBEDDING_DIM))\n",
    "\n",
    "#add glove word encodings to our library\n",
    "for word, i in tqdm(word_index.items()):\n",
    "    embedding_vector = embeddings_index.get(word)\n",
    "    if embedding_vector is not None:\n",
    "        \n",
    "        #words not found in embedding index will be all-zeros.\n",
    "        embedding_matrix[i] = embedding_vector\n",
    "        \n",
    "print(\"Our embedded matrix is of dimension\", embedding_matrix.shape)"
   ]
  },
  {
   "cell_type": "code",
   "execution_count": 47,
   "id": "c27a410f",
   "metadata": {},
   "outputs": [],
   "source": [
    "embedding = Embedding(len(word_index) + 1, EMBEDDING_DIM, weights = [embedding_matrix],\n",
    "                     input_length = 200, trainable = False)  "
   ]
  },
  {
   "cell_type": "code",
   "execution_count": 48,
   "id": "02503114",
   "metadata": {},
   "outputs": [],
   "source": [
    "def glove_model():\n",
    "            \n",
    "    #define inputs\n",
    "    nlp_input = Input(shape = (200,), name = 'nlp_input')\n",
    "    meta_input_train = Input(shape = (6, ), name = 'meta_train')\n",
    "    \n",
    "    emb = embedding(nlp_input)\n",
    "    emb = SpatialDropout1D(0.2)(emb)\n",
    "\n",
    "    nlp_out = Bidirectional(LSTM(100, \n",
    "                                 dropout=0.2, kernel_initializer = 'orthogonal',\n",
    "                                 ))(emb)     \n",
    "     \n",
    "    #add meta data    \n",
    "    x = Concatenate()([nlp_out, meta_input_train])\n",
    "    \n",
    "    #add second hidden layer\n",
    "    x = Dropout(0.2)(x)\n",
    "    x = (Dense(100, \n",
    "               activation = 'relu'\n",
    "              ))(x)\n",
    "    \n",
    "    #add output layer\n",
    "    x = Dropout(0.4)(x)\n",
    "    preds = Dense(1, \n",
    "                  activation='sigmoid'\n",
    "                 )(x)\n",
    "    \n",
    "    #compile model\n",
    "    model = Model(inputs=[nlp_input , meta_input_train], outputs = preds)\n",
    "    model.compile(loss = 'binary_crossentropy', optimizer = Adam(0.004), metrics = ['accuracy'])\n",
    "    \n",
    "    return model"
   ]
  },
  {
   "cell_type": "code",
   "execution_count": 49,
   "id": "6d1cf574",
   "metadata": {
    "scrolled": false
   },
   "outputs": [
    {
     "name": "stdout",
     "output_type": "stream",
     "text": [
      "Model: \"model_3\"\n",
      "__________________________________________________________________________________________________\n",
      " Layer (type)                   Output Shape         Param #     Connected to                     \n",
      "==================================================================================================\n",
      " nlp_input (InputLayer)         [(None, 200)]        0           []                               \n",
      "                                                                                                  \n",
      " embedding_3 (Embedding)        (None, 200, 200)     4591600     ['nlp_input[0][0]']              \n",
      "                                                                                                  \n",
      " spatial_dropout1d_3 (SpatialDr  (None, 200, 200)    0           ['embedding_3[0][0]']            \n",
      " opout1D)                                                                                         \n",
      "                                                                                                  \n",
      " bidirectional_3 (Bidirectional  (None, 200)         240800      ['spatial_dropout1d_3[0][0]']    \n",
      " )                                                                                                \n",
      "                                                                                                  \n",
      " meta_train (InputLayer)        [(None, 6)]          0           []                               \n",
      "                                                                                                  \n",
      " concatenate_3 (Concatenate)    (None, 206)          0           ['bidirectional_3[0][0]',        \n",
      "                                                                  'meta_train[0][0]']             \n",
      "                                                                                                  \n",
      " dropout_6 (Dropout)            (None, 206)          0           ['concatenate_3[0][0]']          \n",
      "                                                                                                  \n",
      " dense_6 (Dense)                (None, 100)          20700       ['dropout_6[0][0]']              \n",
      "                                                                                                  \n",
      " dropout_7 (Dropout)            (None, 100)          0           ['dense_6[0][0]']                \n",
      "                                                                                                  \n",
      " dense_7 (Dense)                (None, 1)            101         ['dropout_7[0][0]']              \n",
      "                                                                                                  \n",
      "==================================================================================================\n",
      "Total params: 4,853,201\n",
      "Trainable params: 261,601\n",
      "Non-trainable params: 4,591,600\n",
      "__________________________________________________________________________________________________\n",
      "Epoch 1/20\n",
      "200/200 [==============================] - 40s 191ms/step - loss: 0.5782 - accuracy: 0.6973 - val_loss: 0.5332 - val_accuracy: 0.7244 - lr: 0.0040\n",
      "Epoch 2/20\n",
      "200/200 [==============================] - 38s 189ms/step - loss: 0.5300 - accuracy: 0.7334 - val_loss: 0.5621 - val_accuracy: 0.7187 - lr: 0.0040\n",
      "Epoch 3/20\n",
      "200/200 [==============================] - 39s 197ms/step - loss: 0.5147 - accuracy: 0.7516 - val_loss: 0.5232 - val_accuracy: 0.7323 - lr: 0.0040\n",
      "Epoch 4/20\n",
      "200/200 [==============================] - 39s 196ms/step - loss: 0.4956 - accuracy: 0.7516 - val_loss: 0.5200 - val_accuracy: 0.7292 - lr: 0.0040\n",
      "Epoch 5/20\n",
      "200/200 [==============================] - 37s 187ms/step - loss: 0.4726 - accuracy: 0.7694 - val_loss: 0.5407 - val_accuracy: 0.7347 - lr: 0.0040\n",
      "Epoch 6/20\n",
      "200/200 [==============================] - 37s 187ms/step - loss: 0.4440 - accuracy: 0.7856 - val_loss: 0.5308 - val_accuracy: 0.7314 - lr: 0.0040\n",
      "Epoch 7/20\n",
      "200/200 [==============================] - 37s 187ms/step - loss: 0.4170 - accuracy: 0.8008 - val_loss: 0.5583 - val_accuracy: 0.7263 - lr: 0.0040\n",
      "Epoch 8/20\n",
      "200/200 [==============================] - ETA: 0s - loss: 0.3947 - accuracy: 0.8139\n",
      "Epoch 00008: ReduceLROnPlateau reducing learning rate to 0.0020000000949949026.\n",
      "200/200 [==============================] - 37s 188ms/step - loss: 0.3947 - accuracy: 0.8139 - val_loss: 0.5677 - val_accuracy: 0.7244 - lr: 0.0040\n",
      "Epoch 9/20\n",
      "200/200 [==============================] - 38s 188ms/step - loss: 0.3429 - accuracy: 0.8400 - val_loss: 0.6350 - val_accuracy: 0.7244 - lr: 0.0020\n",
      "Epoch 10/20\n",
      "200/200 [==============================] - 37s 188ms/step - loss: 0.3230 - accuracy: 0.8539 - val_loss: 0.6477 - val_accuracy: 0.7210 - lr: 0.0020\n",
      "Epoch 11/20\n",
      "200/200 [==============================] - 37s 187ms/step - loss: 0.3004 - accuracy: 0.8658 - val_loss: 0.6654 - val_accuracy: 0.7130 - lr: 0.0020\n",
      "Epoch 12/20\n",
      "200/200 [==============================] - ETA: 0s - loss: 0.2866 - accuracy: 0.8722\n",
      "Epoch 00012: ReduceLROnPlateau reducing learning rate to 0.0010000000474974513.\n",
      "200/200 [==============================] - 37s 188ms/step - loss: 0.2866 - accuracy: 0.8722 - val_loss: 0.6939 - val_accuracy: 0.7138 - lr: 0.0020\n",
      "Epoch 13/20\n",
      "200/200 [==============================] - 37s 187ms/step - loss: 0.2514 - accuracy: 0.8908 - val_loss: 0.7693 - val_accuracy: 0.7207 - lr: 0.0010\n",
      "Epoch 14/20\n",
      "200/200 [==============================] - 37s 188ms/step - loss: 0.2454 - accuracy: 0.8947 - val_loss: 0.7937 - val_accuracy: 0.7206 - lr: 0.0010\n",
      "Epoch 15/20\n",
      "200/200 [==============================] - 37s 187ms/step - loss: 0.2311 - accuracy: 0.8994 - val_loss: 0.7970 - val_accuracy: 0.7237 - lr: 0.0010\n",
      "Epoch 16/20\n",
      "200/200 [==============================] - ETA: 0s - loss: 0.2149 - accuracy: 0.9077\n",
      "Epoch 00016: ReduceLROnPlateau reducing learning rate to 0.0005000000237487257.\n",
      "200/200 [==============================] - 38s 188ms/step - loss: 0.2149 - accuracy: 0.9077 - val_loss: 0.8443 - val_accuracy: 0.7180 - lr: 0.0010\n",
      "Epoch 17/20\n",
      "200/200 [==============================] - 38s 189ms/step - loss: 0.2172 - accuracy: 0.9106 - val_loss: 0.8433 - val_accuracy: 0.7182 - lr: 5.0000e-04\n",
      "Epoch 18/20\n",
      "200/200 [==============================] - 37s 187ms/step - loss: 0.1960 - accuracy: 0.9166 - val_loss: 0.8786 - val_accuracy: 0.7181 - lr: 5.0000e-04\n",
      "Epoch 19/20\n",
      "200/200 [==============================] - 38s 189ms/step - loss: 0.1945 - accuracy: 0.9181 - val_loss: 0.8862 - val_accuracy: 0.7152 - lr: 5.0000e-04\n",
      "Epoch 20/20\n",
      "200/200 [==============================] - ETA: 0s - loss: 0.1863 - accuracy: 0.9234\n",
      "Epoch 00020: ReduceLROnPlateau reducing learning rate to 0.0002500000118743628.\n",
      "200/200 [==============================] - 37s 188ms/step - loss: 0.1863 - accuracy: 0.9234 - val_loss: 0.8931 - val_accuracy: 0.7166 - lr: 5.0000e-04\n",
      "\n",
      "f1 score is: 0.6736262279896543\n",
      "              precision    recall  f1-score   support\n",
      "\n",
      "           0       0.78      0.82      0.80      4812\n",
      "           1       0.58      0.52      0.55      2299\n",
      "\n",
      "    accuracy                           0.72      7111\n",
      "   macro avg       0.68      0.67      0.67      7111\n",
      "weighted avg       0.72      0.72      0.72      7111\n",
      "\n",
      "[[3943  869]\n",
      " [1105 1194]]\n"
     ]
    },
    {
     "data": {
      "image/png": "[encoded data removed]",
      "text/plain": [
       "<Figure size 432x288 with 1 Axes>"
      ]
     },
     "metadata": {},
     "output_type": "display_data"
    },
    {
     "data": {
      "image/png": "[encoded data removed]",
      "text/plain": [
       "<Figure size 432x288 with 1 Axes>"
      ]
     },
     "metadata": {},
     "output_type": "display_data"
    }
   ],
   "source": [
    "model = glove_model()\n",
    "model_process(model, n_epochs=20)"
   ]
  },
  {
   "cell_type": "markdown",
   "id": "5c7886ab",
   "metadata": {},
   "source": [
    "### additional preprocessing"
   ]
  },
  {
   "cell_type": "code",
   "execution_count": 30,
   "id": "5e4e6048",
   "metadata": {},
   "outputs": [],
   "source": [
    "def clean_text(text):\n",
    "    '''Make text lowercase, remove text in square bracketsremove punctuation\n",
    "    and remove words containing numbers.'''\n",
    "    text = str(text).lower()\n",
    "    text = re.sub('\\[.*?\\]', '', text)\n",
    "    text = re.sub('<.*?>+', '', text)\n",
    "    text = re.sub('[%s]' % re.escape(string.punctuation), '', text)\n",
    "    text = re.sub('\\n', '', text)\n",
    "    text = re.sub('\\w*\\d\\w*', '', text)\n",
    "    return text\n",
    "\n",
    "stop_words = stopwords.words('english')+['u', 'im', 'c']\n",
    "\n",
    "def remove_stopwords(text):\n",
    "    text = ' '.join(word for word in text.split(' ') if word not in stop_words)\n",
    "    return text \n",
    "\n",
    "stemmer = nltk.SnowballStemmer(\"english\")\n",
    "\n",
    "def stemm_text(text):\n",
    "    text = ' '.join(stemmer.stem(word) for word in text.split(' '))\n",
    "    return text\n",
    "\n",
    "def preprocess(df):\n",
    "    df = df.apply(clean_text)\n",
    "    df = df.apply(remove_stopwords)\n",
    "    df = df.apply(stemm_text)\n",
    "    return df"
   ]
  },
  {
   "cell_type": "code",
   "execution_count": 31,
   "id": "4b3ebf82",
   "metadata": {},
   "outputs": [],
   "source": [
    "train['BODY'] = preprocess(train['BODY'])\n",
    "val['BODY'] = preprocess(val['BODY'])\n",
    "test['BODY'] = preprocess(test['BODY'])"
   ]
  },
  {
   "cell_type": "code",
   "execution_count": 32,
   "id": "55c76163",
   "metadata": {
    "scrolled": false
   },
   "outputs": [
    {
     "name": "stdout",
     "output_type": "stream",
     "text": [
      "17771 unique tokens\n"
     ]
    },
    {
     "data": {
      "text/plain": [
       "StandardScaler()"
      ]
     },
     "execution_count": 32,
     "metadata": {},
     "output_type": "execute_result"
    },
    {
     "name": "stderr",
     "output_type": "stream",
     "text": [
      "100%|██████████| 17771/17771 [00:00<00:00, 771947.93it/s]\n"
     ]
    },
    {
     "name": "stdout",
     "output_type": "stream",
     "text": [
      "Our embedded matrix is of dimension (17772, 200)\n",
      "Model: \"model_2\"\n",
      "__________________________________________________________________________________________________\n",
      " Layer (type)                   Output Shape         Param #     Connected to                     \n",
      "==================================================================================================\n",
      " nlp_input (InputLayer)         [(None, 100)]        0           []                               \n",
      "                                                                                                  \n",
      " embedding_2 (Embedding)        (None, 100, 200)     3554400     ['nlp_input[0][0]']              \n",
      "                                                                                                  \n",
      " spatial_dropout1d_2 (SpatialDr  (None, 100, 200)    0           ['embedding_2[0][0]']            \n",
      " opout1D)                                                                                         \n",
      "                                                                                                  \n",
      " bidirectional_2 (Bidirectional  (None, 200)         240800      ['spatial_dropout1d_2[0][0]']    \n",
      " )                                                                                                \n",
      "                                                                                                  \n",
      " meta_train (InputLayer)        [(None, 6)]          0           []                               \n",
      "                                                                                                  \n",
      " concatenate_2 (Concatenate)    (None, 206)          0           ['bidirectional_2[0][0]',        \n",
      "                                                                  'meta_train[0][0]']             \n",
      "                                                                                                  \n",
      " dropout_4 (Dropout)            (None, 206)          0           ['concatenate_2[0][0]']          \n",
      "                                                                                                  \n",
      " dense_4 (Dense)                (None, 100)          20700       ['dropout_4[0][0]']              \n",
      "                                                                                                  \n",
      " dropout_5 (Dropout)            (None, 100)          0           ['dense_4[0][0]']                \n",
      "                                                                                                  \n",
      " dense_5 (Dense)                (None, 1)            101         ['dropout_5[0][0]']              \n",
      "                                                                                                  \n",
      "==================================================================================================\n",
      "Total params: 3,816,001\n",
      "Trainable params: 261,601\n",
      "Non-trainable params: 3,554,400\n",
      "__________________________________________________________________________________________________\n",
      "Epoch 1/20\n",
      "200/200 [==============================] - 20s 90ms/step - loss: 0.5855 - accuracy: 0.6939 - val_loss: 0.5625 - val_accuracy: 0.6922 - lr: 0.0040\n",
      "Epoch 2/20\n",
      "200/200 [==============================] - 18s 88ms/step - loss: 0.5776 - accuracy: 0.6966 - val_loss: 0.5540 - val_accuracy: 0.7094 - lr: 0.0040\n",
      "Epoch 3/20\n",
      "200/200 [==============================] - 19s 96ms/step - loss: 0.5492 - accuracy: 0.7073 - val_loss: 0.5514 - val_accuracy: 0.7099 - lr: 0.0040\n",
      "Epoch 4/20\n",
      "200/200 [==============================] - 18s 91ms/step - loss: 0.5279 - accuracy: 0.7275 - val_loss: 0.5522 - val_accuracy: 0.7036 - lr: 0.0040\n",
      "Epoch 5/20\n",
      "200/200 [==============================] - 17s 86ms/step - loss: 0.5427 - accuracy: 0.7242 - val_loss: 0.5604 - val_accuracy: 0.7028 - lr: 0.0040\n",
      "Epoch 6/20\n",
      "200/200 [==============================] - 18s 90ms/step - loss: 0.4993 - accuracy: 0.7514 - val_loss: 0.5571 - val_accuracy: 0.7130 - lr: 0.0040\n",
      "Epoch 7/20\n",
      "200/200 [==============================] - ETA: 0s - loss: 0.4691 - accuracy: 0.7692\n",
      "Epoch 00007: ReduceLROnPlateau reducing learning rate to 0.0020000000949949026.\n",
      "200/200 [==============================] - 18s 92ms/step - loss: 0.4691 - accuracy: 0.7692 - val_loss: 0.5734 - val_accuracy: 0.7127 - lr: 0.0040\n",
      "Epoch 8/20\n",
      "200/200 [==============================] - 18s 89ms/step - loss: 0.4200 - accuracy: 0.8000 - val_loss: 0.6104 - val_accuracy: 0.7098 - lr: 0.0020\n",
      "Epoch 9/20\n",
      "200/200 [==============================] - 17s 88ms/step - loss: 0.3944 - accuracy: 0.8200 - val_loss: 0.6097 - val_accuracy: 0.7051 - lr: 0.0020\n",
      "Epoch 10/20\n",
      "200/200 [==============================] - 18s 89ms/step - loss: 0.3755 - accuracy: 0.8284 - val_loss: 0.6184 - val_accuracy: 0.7072 - lr: 0.0020\n",
      "Epoch 11/20\n",
      "200/200 [==============================] - ETA: 0s - loss: 0.3549 - accuracy: 0.8439\n",
      "Epoch 00011: ReduceLROnPlateau reducing learning rate to 0.0010000000474974513.\n",
      "200/200 [==============================] - 18s 91ms/step - loss: 0.3549 - accuracy: 0.8439 - val_loss: 0.6741 - val_accuracy: 0.7030 - lr: 0.0020\n",
      "Epoch 12/20\n",
      "200/200 [==============================] - 18s 89ms/step - loss: 0.3183 - accuracy: 0.8566 - val_loss: 0.7092 - val_accuracy: 0.6889 - lr: 0.0010\n",
      "Epoch 13/20\n",
      "200/200 [==============================] - 18s 88ms/step - loss: 0.3032 - accuracy: 0.8658 - val_loss: 0.7253 - val_accuracy: 0.6846 - lr: 0.0010\n",
      "Epoch 14/20\n",
      "200/200 [==============================] - 18s 90ms/step - loss: 0.2913 - accuracy: 0.8700 - val_loss: 0.7559 - val_accuracy: 0.6832 - lr: 0.0010\n",
      "Epoch 15/20\n",
      "200/200 [==============================] - ETA: 0s - loss: 0.2776 - accuracy: 0.8789\n",
      "Epoch 00015: ReduceLROnPlateau reducing learning rate to 0.0005000000237487257.\n",
      "200/200 [==============================] - 18s 89ms/step - loss: 0.2776 - accuracy: 0.8789 - val_loss: 0.7840 - val_accuracy: 0.7001 - lr: 0.0010\n",
      "Epoch 16/20\n",
      "200/200 [==============================] - 18s 89ms/step - loss: 0.2604 - accuracy: 0.8866 - val_loss: 0.8094 - val_accuracy: 0.6944 - lr: 5.0000e-04\n",
      "Epoch 17/20\n",
      "200/200 [==============================] - 18s 88ms/step - loss: 0.2513 - accuracy: 0.8872 - val_loss: 0.8588 - val_accuracy: 0.6962 - lr: 5.0000e-04\n",
      "Epoch 18/20\n",
      "200/200 [==============================] - 17s 87ms/step - loss: 0.2351 - accuracy: 0.9020 - val_loss: 0.8733 - val_accuracy: 0.6920 - lr: 5.0000e-04\n",
      "Epoch 19/20\n",
      "200/200 [==============================] - ETA: 0s - loss: 0.2339 - accuracy: 0.8992\n",
      "Epoch 00019: ReduceLROnPlateau reducing learning rate to 0.0002500000118743628.\n",
      "200/200 [==============================] - 17s 88ms/step - loss: 0.2339 - accuracy: 0.8992 - val_loss: 0.8817 - val_accuracy: 0.6905 - lr: 5.0000e-04\n",
      "Epoch 20/20\n",
      "200/200 [==============================] - 17s 87ms/step - loss: 0.2265 - accuracy: 0.9047 - val_loss: 0.8906 - val_accuracy: 0.6858 - lr: 2.5000e-04\n",
      "\n",
      "f1 score is: 0.6347988562216376\n",
      "              precision    recall  f1-score   support\n",
      "\n",
      "           0       0.76      0.77      0.77      4812\n",
      "           1       0.51      0.50      0.50      2299\n",
      "\n",
      "    accuracy                           0.68      7111\n",
      "   macro avg       0.64      0.63      0.63      7111\n",
      "weighted avg       0.68      0.68      0.68      7111\n",
      "\n",
      "[[3711 1101]\n",
      " [1157 1142]]\n"
     ]
    },
    {
     "data": {
      "image/png": "[encoded data removed]",
      "text/plain": [
       "<Figure size 432x288 with 1 Axes>"
      ]
     },
     "metadata": {},
     "output_type": "display_data"
    },
    {
     "data": {
      "image/png": "[encoded data removed]",
      "text/plain": [
       "<Figure size 432x288 with 1 Axes>"
      ]
     },
     "metadata": {},
     "output_type": "display_data"
    }
   ],
   "source": [
    "train_text = [i for i in train['BODY']]\n",
    "test_text = [i for i in test['BODY']]\n",
    "val_text = [i for i in val['BODY']]\n",
    "\n",
    "tokenizer = Tokenizer()\n",
    "\n",
    "tokenizer.fit_on_texts(train_text)\n",
    "\n",
    "print(len(tokenizer.word_index), 'unique tokens')\n",
    "\n",
    "train_seq = tokenizer.texts_to_sequences(train_text)\n",
    "test_seq = tokenizer.texts_to_sequences(test_text)\n",
    "val_seq = tokenizer.texts_to_sequences(val_text)\n",
    "\n",
    "train_data = pad_sequences(train_seq, 100)\n",
    "val_data = pad_sequences(val_seq, 100)\n",
    "test_data = pad_sequences(test_seq, 100)\n",
    "\n",
    "scaler = StandardScaler()\n",
    "scaler.fit(train.iloc[:, 4:])\n",
    "\n",
    "train_meta = scaler.transform(train.iloc[:, 4:])\n",
    "val_meta = scaler.transform(val.iloc[:, 4:])\n",
    "test_meta = scaler.transform(test.iloc[:, 4:])\n",
    "\n",
    "\n",
    "EMBEDDING_DIM = 200  \n",
    "word_index = tokenizer.word_index\n",
    "\n",
    "#initialize embedding matrix with zeros\n",
    "embedding_matrix = np.zeros((len(word_index) + 1, EMBEDDING_DIM))\n",
    "\n",
    "#add glove word encodings to our library\n",
    "for word, i in tqdm(word_index.items()):\n",
    "    embedding_vector = embeddings_index.get(word)\n",
    "    if embedding_vector is not None:\n",
    "        \n",
    "        #words not found in embedding index will be all-zeros.\n",
    "        embedding_matrix[i] = embedding_vector\n",
    "        \n",
    "print(\"Our embedded matrix is of dimension\", embedding_matrix.shape)\n",
    "\n",
    "\n",
    "embedding = Embedding(len(word_index) + 1, EMBEDDING_DIM, weights = [embedding_matrix],\n",
    "                     input_length = 100, trainable = False)  \n",
    "\n",
    "model = glove_model()\n",
    "model_process(model, n_epochs=20)"
   ]
  }
 ],
 "metadata": {
  "kernelspec": {
   "display_name": "Python 3",
   "language": "python",
   "name": "python3"
  },
  "language_info": {
   "codemirror_mode": {
    "name": "ipython",
    "version": 3
   },
   "file_extension": ".py",
   "mimetype": "text/x-python",
   "name": "python",
   "nbconvert_exporter": "python",
   "pygments_lexer": "ipython3",
   "version": "3.7.11"
  }
 },
 "nbformat": 4,
 "nbformat_minor": 5
}
