{
 "cells": [
  {
   "cell_type": "code",
   "execution_count": 1,
   "id": "9a5f4331",
   "metadata": {},
   "outputs": [
    {
     "name": "stderr",
     "output_type": "stream",
     "text": [
      "[nltk_data] Downloading package stopwords to\n",
      "[nltk_data]     C:\\Users\\Tau\\AppData\\Roaming\\nltk_data...\n",
      "[nltk_data]   Package stopwords is already up-to-date!\n"
     ]
    },
    {
     "data": {
      "text/plain": [
       "True"
      ]
     },
     "execution_count": 1,
     "metadata": {},
     "output_type": "execute_result"
    }
   ],
   "source": [
    "from matplotlib import pyplot as plt\n",
    "import math, os, re, time, random, string\n",
    "import numpy as np, pandas as pd, seaborn as sns\n",
    "from tqdm import tqdm\n",
    "tqdm.pandas()\n",
    "import matplotlib.pyplot as plt\n",
    "plt.style.use('ggplot')\n",
    "import seaborn as sns\n",
    "\n",
    "from collections import defaultdict\n",
    "import wordcloud\n",
    "\n",
    "import warnings\n",
    "warnings.filterwarnings('ignore')\n",
    "\n",
    "import tensorflow as tf\n",
    "\n",
    "from tensorflow.keras.preprocessing.text import Tokenizer\n",
    "from tensorflow.keras.preprocessing.sequence import pad_sequences\n",
    "\n",
    "from sklearn.metrics import *\n",
    "from sklearn.preprocessing import StandardScaler\n",
    "from sklearn.model_selection import *\n",
    "\n",
    "import nltk\n",
    "from nltk.corpus import stopwords\n",
    "nltk.download('stopwords')\n",
    "\n",
    "from tensorflow.keras.layers import *\n",
    "from tensorflow.keras import Input, Model\n",
    "from tensorflow.keras.regularizers import l2\n",
    "from tensorflow.keras.optimizers import *\n",
    "from tensorflow.keras.models import Sequential\n",
    "from tensorflow.keras.callbacks import EarlyStopping, ModelCheckpoint, ReduceLROnPlateau"
   ]
  },
  {
   "cell_type": "markdown",
   "id": "6838e621",
   "metadata": {},
   "source": [
    "#### Read data"
   ]
  },
  {
   "cell_type": "code",
   "execution_count": 13,
   "id": "5af6e1bc",
   "metadata": {},
   "outputs": [],
   "source": [
    "df = pd.read_csv('./raw_data/train_processed.csv', encoding='latin-1')\n",
    "test = pd.read_csv('./raw_data/test_processed.csv', encoding='latin-1')\n",
    "df = df.dropna()\n",
    "test = test.dropna()"
   ]
  },
  {
   "cell_type": "markdown",
   "id": "bc756a98",
   "metadata": {},
   "source": [
    "#### Split and organize"
   ]
  },
  {
   "cell_type": "code",
   "execution_count": 14,
   "id": "81232595",
   "metadata": {},
   "outputs": [
    {
     "data": {
      "text/plain": [
       "(6392, 12)"
      ]
     },
     "execution_count": 14,
     "metadata": {},
     "output_type": "execute_result"
    },
    {
     "data": {
      "text/plain": [
       "(14915, 12)"
      ]
     },
     "execution_count": 14,
     "metadata": {},
     "output_type": "execute_result"
    },
    {
     "data": {
      "text/plain": [
       "(7107, 12)"
      ]
     },
     "execution_count": 14,
     "metadata": {},
     "output_type": "execute_result"
    }
   ],
   "source": [
    "train, val = train_test_split(df, test_size=0.7)\n",
    "\n",
    "y_train = train['REMOVED']\n",
    "y_val = val['REMOVED']\n",
    "y_test = test['REMOVED']\n",
    "train.shape\n",
    "val.shape\n",
    "test.shape"
   ]
  },
  {
   "cell_type": "markdown",
   "id": "3998fffd",
   "metadata": {},
   "source": [
    "#### Metafeature scaling"
   ]
  },
  {
   "cell_type": "code",
   "execution_count": 15,
   "id": "19b3779b",
   "metadata": {},
   "outputs": [
    {
     "data": {
      "text/plain": [
       "StandardScaler()"
      ]
     },
     "execution_count": 15,
     "metadata": {},
     "output_type": "execute_result"
    },
    {
     "data": {
      "text/plain": [
       "(6392, 6)"
      ]
     },
     "execution_count": 15,
     "metadata": {},
     "output_type": "execute_result"
    },
    {
     "data": {
      "text/plain": [
       "(14915, 6)"
      ]
     },
     "execution_count": 15,
     "metadata": {},
     "output_type": "execute_result"
    },
    {
     "data": {
      "text/plain": [
       "(7107, 6)"
      ]
     },
     "execution_count": 15,
     "metadata": {},
     "output_type": "execute_result"
    }
   ],
   "source": [
    "scaler = StandardScaler()\n",
    "scaler.fit(train.iloc[:, 2:8])\n",
    "\n",
    "train_meta = scaler.transform(train.iloc[:, 2:8])\n",
    "val_meta = scaler.transform(val.iloc[:, 2:8])\n",
    "test_meta = scaler.transform(test.iloc[:, 2:8])\n",
    "\n",
    "train_meta.shape\n",
    "val_meta.shape\n",
    "test_meta.shape"
   ]
  },
  {
   "cell_type": "markdown",
   "id": "d879e484",
   "metadata": {},
   "source": [
    "#### Tokenizing"
   ]
  },
  {
   "cell_type": "code",
   "execution_count": 16,
   "id": "344e6980",
   "metadata": {},
   "outputs": [],
   "source": [
    "input_dim = 200"
   ]
  },
  {
   "cell_type": "code",
   "execution_count": 29,
   "id": "72ce6743",
   "metadata": {},
   "outputs": [
    {
     "name": "stdout",
     "output_type": "stream",
     "text": [
      "17888 unique tokens\n"
     ]
    }
   ],
   "source": [
    "train_text = [i for i in train['stemmed_no_stop']]\n",
    "test_text = [i for i in test['stemmed_no_stop']]\n",
    "val_text = [i for i in val['stemmed_no_stop']]\n",
    "\n",
    "tokenizer = Tokenizer()\n",
    "\n",
    "tokenizer.fit_on_texts(train_text)\n",
    "\n",
    "print(len(tokenizer.word_index), 'unique tokens')\n",
    "\n",
    "train_seq = tokenizer.texts_to_sequences(train_text)\n",
    "test_seq = tokenizer.texts_to_sequences(test_text)\n",
    "val_seq = tokenizer.texts_to_sequences(val_text)\n",
    "\n",
    "train_data = pad_sequences(train_seq, input_dim)\n",
    "val_data = pad_sequences(val_seq, input_dim)\n",
    "test_data = pad_sequences(test_seq, input_dim)"
   ]
  },
  {
   "cell_type": "markdown",
   "id": "3a15c131",
   "metadata": {},
   "source": [
    "#### Embedding"
   ]
  },
  {
   "cell_type": "code",
   "execution_count": 30,
   "id": "21c82417",
   "metadata": {},
   "outputs": [
    {
     "name": "stderr",
     "output_type": "stream",
     "text": [
      "400001it [00:19, 20452.50it/s]\n"
     ]
    }
   ],
   "source": [
    "embeddings_index = {}\n",
    "with open('./glove/glove.6B/glove.6B.200d.txt','r', encoding=\"utf8\") as f:\n",
    "    for line in tqdm(f):\n",
    "        values = line.split()\n",
    "        word = values[0]\n",
    "        coefs = np.asarray(values[1:], dtype='float32')\n",
    "        embeddings_index[word] = coefs\n",
    "f.close()"
   ]
  },
  {
   "cell_type": "code",
   "execution_count": 31,
   "id": "786d7ac7",
   "metadata": {},
   "outputs": [
    {
     "name": "stderr",
     "output_type": "stream",
     "text": [
      "100%|██████████| 17888/17888 [00:00<00:00, 714862.80it/s]"
     ]
    },
    {
     "name": "stdout",
     "output_type": "stream",
     "text": [
      "embedded matrix dimension (17889, 200)\n"
     ]
    },
    {
     "name": "stderr",
     "output_type": "stream",
     "text": [
      "\n"
     ]
    }
   ],
   "source": [
    "word_index = tokenizer.word_index\n",
    "\n",
    "#initialize embedding matrix with zeros\n",
    "embedding_matrix = np.zeros((len(word_index) + 1, input_dim))\n",
    "\n",
    "#add glove word encodings to our library\n",
    "for word, i in tqdm(word_index.items()):\n",
    "    embedding_vector = embeddings_index.get(word)\n",
    "    if embedding_vector is not None:\n",
    "        \n",
    "        #words not found in embedding index will be all-zeros.\n",
    "        embedding_matrix[i] = embedding_vector\n",
    "        \n",
    "print(\"embedded matrix dimension\", embedding_matrix.shape)\n",
    "\n",
    "embedding = Embedding(len(word_index) + 1, input_dim, weights = [embedding_matrix],\n",
    "                     input_length = 200, trainable = False)  "
   ]
  },
  {
   "cell_type": "markdown",
   "id": "020b369e",
   "metadata": {},
   "source": [
    "#### Modeling functions"
   ]
  },
  {
   "cell_type": "code",
   "execution_count": 35,
   "id": "7e53af43",
   "metadata": {},
   "outputs": [],
   "source": [
    "reduce_lr = ReduceLROnPlateau(monitor = 'val_loss', \n",
    "                              factor = 0.5, \n",
    "                              verbose = 1, \n",
    "                              patience = 4,                        \n",
    "                              min_lr = 0.0001)   \n",
    "    \n",
    "def model_process(model, n_epochs=20):\n",
    "    model.summary()\n",
    "    history = model.fit(x=[train_data, train_meta],\n",
    "                        y=y_train,\n",
    "                        epochs = n_epochs,\n",
    "                        verbose=1,\n",
    "                        callbacks=[reduce_lr],\n",
    "                        validation_data = ([val_data, val_meta], y_val)\n",
    "                       )\n",
    "    \n",
    "    scores = pd.DataFrame(history.history)\n",
    "    scores[['loss', 'val_loss']].plot()\n",
    "    scores[['accuracy', 'val_accuracy']].plot()\n",
    "    \n",
    "    y_pred = (model.predict([test_data, test_meta]) > 0.5).astype(int)\n",
    "    print('\\nf1 score is:', f1_score(y_test, y_pred, average = 'macro'))\n",
    "    print(classification_report(y_test, y_pred))\n",
    "    print(confusion_matrix(y_test, y_pred))"
   ]
  },
  {
   "cell_type": "markdown",
   "id": "d9f438a6",
   "metadata": {},
   "source": [
    "# SimpleRNN"
   ]
  },
  {
   "cell_type": "code",
   "execution_count": 36,
   "id": "d16b2b9b",
   "metadata": {},
   "outputs": [],
   "source": [
    "def simple_rnn():\n",
    "    nlp_input = Input(shape = (input_dim,), name = 'nlp_input')\n",
    "    meta_input_train = Input(shape = (6, ), name = 'meta_train')\n",
    "    \n",
    "    emb = embedding(nlp_input)\n",
    "    emb = SpatialDropout1D(0.2)(emb)\n",
    "\n",
    "    nlp_out = SimpleRNN(64, dropout=0.2, return_sequences=True)(emb)  \n",
    "    nlp_out = SpatialDropout1D(0.2)(nlp_out)\n",
    "    nlp_out = SimpleRNN(32, dropout=0.2)(nlp_out)\n",
    "     \n",
    "    #add meta data    \n",
    "    x = Concatenate()([nlp_out, meta_input_train])\n",
    "    \n",
    "    #add second hidden layer\n",
    "    x = Dropout(0.2)(x)\n",
    "    x = (Dense(32, \n",
    "               activation = 'relu'\n",
    "              ))(x)\n",
    "    \n",
    "    #add output layer\n",
    "    x = Dropout(0.2)(x)\n",
    "    preds = Dense(1, \n",
    "                  activation='sigmoid'\n",
    "                 )(x)\n",
    "    \n",
    "    #compile model\n",
    "    model = Model(inputs=[nlp_input , meta_input_train], outputs = preds)\n",
    "    model.compile(loss = 'binary_crossentropy', optimizer = Adam(0.004), metrics = ['accuracy'])\n",
    "    \n",
    "    return model"
   ]
  },
  {
   "cell_type": "code",
   "execution_count": 37,
   "id": "74c81b26",
   "metadata": {
    "scrolled": false
   },
   "outputs": [
    {
     "name": "stdout",
     "output_type": "stream",
     "text": [
      "Model: \"model_3\"\n",
      "__________________________________________________________________________________________________\n",
      " Layer (type)                   Output Shape         Param #     Connected to                     \n",
      "==================================================================================================\n",
      " nlp_input (InputLayer)         [(None, 200)]        0           []                               \n",
      "                                                                                                  \n",
      " embedding_2 (Embedding)        (None, 200, 200)     3577800     ['nlp_input[0][0]']              \n",
      "                                                                                                  \n",
      " spatial_dropout1d_6 (SpatialDr  (None, 200, 200)    0           ['embedding_2[1][0]']            \n",
      " opout1D)                                                                                         \n",
      "                                                                                                  \n",
      " simple_rnn_6 (SimpleRNN)       (None, 200, 64)      16960       ['spatial_dropout1d_6[0][0]']    \n",
      "                                                                                                  \n",
      " spatial_dropout1d_7 (SpatialDr  (None, 200, 64)     0           ['simple_rnn_6[0][0]']           \n",
      " opout1D)                                                                                         \n",
      "                                                                                                  \n",
      " simple_rnn_7 (SimpleRNN)       (None, 32)           3104        ['spatial_dropout1d_7[0][0]']    \n",
      "                                                                                                  \n",
      " meta_train (InputLayer)        [(None, 6)]          0           []                               \n",
      "                                                                                                  \n",
      " concatenate_3 (Concatenate)    (None, 38)           0           ['simple_rnn_7[0][0]',           \n",
      "                                                                  'meta_train[0][0]']             \n",
      "                                                                                                  \n",
      " dropout_6 (Dropout)            (None, 38)           0           ['concatenate_3[0][0]']          \n",
      "                                                                                                  \n",
      " dense_6 (Dense)                (None, 32)           1248        ['dropout_6[0][0]']              \n",
      "                                                                                                  \n",
      " dropout_7 (Dropout)            (None, 32)           0           ['dense_6[0][0]']                \n",
      "                                                                                                  \n",
      " dense_7 (Dense)                (None, 1)            33          ['dropout_7[0][0]']              \n",
      "                                                                                                  \n",
      "==================================================================================================\n",
      "Total params: 3,599,145\n",
      "Trainable params: 21,345\n",
      "Non-trainable params: 3,577,800\n",
      "__________________________________________________________________________________________________\n",
      "Epoch 1/10\n",
      "200/200 [==============================] - 24s 110ms/step - loss: 0.6378 - accuracy: 0.6541 - val_loss: 0.6133 - val_accuracy: 0.6790 - lr: 0.0040\n",
      "Epoch 2/10\n",
      "200/200 [==============================] - 15s 75ms/step - loss: 0.6151 - accuracy: 0.6754 - val_loss: 0.5946 - val_accuracy: 0.6790 - lr: 0.0040\n",
      "Epoch 3/10\n",
      "200/200 [==============================] - 15s 74ms/step - loss: 0.6087 - accuracy: 0.6774 - val_loss: 0.6006 - val_accuracy: 0.6844 - lr: 0.0040\n",
      "Epoch 4/10\n",
      "200/200 [==============================] - 19s 93ms/step - loss: 0.6089 - accuracy: 0.6816 - val_loss: 0.5903 - val_accuracy: 0.6794 - lr: 0.0040\n",
      "Epoch 5/10\n",
      "200/200 [==============================] - 25s 126ms/step - loss: 0.6003 - accuracy: 0.6769 - val_loss: 0.5821 - val_accuracy: 0.6826 - lr: 0.0040\n",
      "Epoch 6/10\n",
      "200/200 [==============================] - 23s 114ms/step - loss: 0.5957 - accuracy: 0.6840 - val_loss: 0.5745 - val_accuracy: 0.6949 - lr: 0.0040\n",
      "Epoch 7/10\n",
      "200/200 [==============================] - 26s 130ms/step - loss: 0.5894 - accuracy: 0.6868 - val_loss: 0.5603 - val_accuracy: 0.7033 - lr: 0.0040\n",
      "Epoch 8/10\n",
      "200/200 [==============================] - 22s 112ms/step - loss: 0.5836 - accuracy: 0.6901 - val_loss: 0.5640 - val_accuracy: 0.6982 - lr: 0.0040\n",
      "Epoch 9/10\n",
      "200/200 [==============================] - 23s 117ms/step - loss: 0.6006 - accuracy: 0.6774 - val_loss: 0.5986 - val_accuracy: 0.6841 - lr: 0.0040\n",
      "Epoch 10/10\n",
      "200/200 [==============================] - 22s 109ms/step - loss: 0.6042 - accuracy: 0.6843 - val_loss: 0.5944 - val_accuracy: 0.6898 - lr: 0.0040\n",
      "\n",
      "f1 score is: 0.5667075470454036\n",
      "              precision    recall  f1-score   support\n",
      "\n",
      "           0       0.71      0.89      0.79      4808\n",
      "           1       0.53      0.25      0.34      2299\n",
      "\n",
      "    accuracy                           0.69      7107\n",
      "   macro avg       0.62      0.57      0.57      7107\n",
      "weighted avg       0.65      0.69      0.65      7107\n",
      "\n",
      "[[4300  508]\n",
      " [1725  574]]\n"
     ]
    },
    {
     "data": {
      "image/png": "[encoded data removed]",
      "text/plain": [
       "<Figure size 432x288 with 1 Axes>"
      ]
     },
     "metadata": {},
     "output_type": "display_data"
    },
    {
     "data": {
      "image/png": "[encoded data removed]",
      "text/plain": [
       "<Figure size 432x288 with 1 Axes>"
      ]
     },
     "metadata": {},
     "output_type": "display_data"
    }
   ],
   "source": [
    "m1 = simple_rnn()\n",
    "model_process(m1, 10)"
   ]
  }
 ],
 "metadata": {
  "kernelspec": {
   "display_name": "Python 3",
   "language": "python",
   "name": "python3"
  },
  "language_info": {
   "codemirror_mode": {
    "name": "ipython",
    "version": 3
   },
   "file_extension": ".py",
   "mimetype": "text/x-python",
   "name": "python",
   "nbconvert_exporter": "python",
   "pygments_lexer": "ipython3",
   "version": "3.7.11"
  }
 },
 "nbformat": 4,
 "nbformat_minor": 5
}
