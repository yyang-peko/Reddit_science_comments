{
 "cells": [
  {
   "cell_type": "code",
   "execution_count": 1,
   "id": "e01f259a",
   "metadata": {},
   "outputs": [
    {
     "name": "stderr",
     "output_type": "stream",
     "text": [
      "[nltk_data] Downloading package stopwords to\n",
      "[nltk_data]     C:\\Users\\Tau\\AppData\\Roaming\\nltk_data...\n",
      "[nltk_data]   Package stopwords is already up-to-date!\n"
     ]
    },
    {
     "data": {
      "text/plain": [
       "True"
      ]
     },
     "execution_count": 1,
     "metadata": {},
     "output_type": "execute_result"
    }
   ],
   "source": [
    "from matplotlib import pyplot as plt\n",
    "import math, os, re, time, random, string\n",
    "import numpy as np, pandas as pd, seaborn as sns\n",
    "from tqdm import tqdm\n",
    "tqdm.pandas()\n",
    "import matplotlib.pyplot as plt\n",
    "plt.style.use('ggplot')\n",
    "import seaborn as sns\n",
    "\n",
    "from collections import defaultdict\n",
    "import wordcloud\n",
    "\n",
    "import warnings\n",
    "warnings.filterwarnings('ignore')\n",
    "\n",
    "import tensorflow as tf\n",
    "\n",
    "from tensorflow.keras.preprocessing.text import Tokenizer\n",
    "from tensorflow.keras.preprocessing.sequence import pad_sequences\n",
    "\n",
    "from sklearn.metrics import *\n",
    "from sklearn.preprocessing import StandardScaler\n",
    "from sklearn.model_selection import *\n",
    "\n",
    "import nltk\n",
    "from nltk.corpus import stopwords\n",
    "nltk.download('stopwords')\n",
    "\n",
    "from tensorflow.keras.layers import *\n",
    "from tensorflow.keras import Input, Model\n",
    "from tensorflow.keras.regularizers import l2\n",
    "from tensorflow.keras.optimizers import *\n",
    "from tensorflow.keras.models import Sequential\n",
    "from tensorflow.keras.callbacks import EarlyStopping, ModelCheckpoint, ReduceLROnPlateau"
   ]
  },
  {
   "cell_type": "markdown",
   "id": "2d060d76",
   "metadata": {},
   "source": [
    "#### Read data"
   ]
  },
  {
   "cell_type": "code",
   "execution_count": 2,
   "id": "19ce4c43",
   "metadata": {},
   "outputs": [],
   "source": [
    "df = pd.read_csv('./raw_data/train_processed.csv', encoding='latin-1')\n",
    "test = pd.read_csv('./raw_data/test_processed.csv', encoding='latin-1')\n",
    "df = df.dropna()\n",
    "test = test.dropna()"
   ]
  },
  {
   "cell_type": "markdown",
   "id": "9e981511",
   "metadata": {},
   "source": [
    "#### Split and organize"
   ]
  },
  {
   "cell_type": "code",
   "execution_count": 3,
   "id": "7bc846c3",
   "metadata": {},
   "outputs": [
    {
     "data": {
      "text/plain": [
       "(6392, 12)"
      ]
     },
     "execution_count": 3,
     "metadata": {},
     "output_type": "execute_result"
    },
    {
     "data": {
      "text/plain": [
       "(14915, 12)"
      ]
     },
     "execution_count": 3,
     "metadata": {},
     "output_type": "execute_result"
    },
    {
     "data": {
      "text/plain": [
       "(7107, 12)"
      ]
     },
     "execution_count": 3,
     "metadata": {},
     "output_type": "execute_result"
    }
   ],
   "source": [
    "train, val = train_test_split(df, test_size=0.7)\n",
    "\n",
    "y_train = train['REMOVED']\n",
    "y_val = val['REMOVED']\n",
    "y_test = test['REMOVED']\n",
    "train.shape\n",
    "val.shape\n",
    "test.shape"
   ]
  },
  {
   "cell_type": "markdown",
   "id": "ed18a1e1",
   "metadata": {},
   "source": [
    "#### Metafeature scaling"
   ]
  },
  {
   "cell_type": "code",
   "execution_count": 4,
   "id": "e74e4800",
   "metadata": {},
   "outputs": [
    {
     "data": {
      "text/plain": [
       "StandardScaler()"
      ]
     },
     "execution_count": 4,
     "metadata": {},
     "output_type": "execute_result"
    },
    {
     "data": {
      "text/plain": [
       "(6392, 6)"
      ]
     },
     "execution_count": 4,
     "metadata": {},
     "output_type": "execute_result"
    },
    {
     "data": {
      "text/plain": [
       "(14915, 6)"
      ]
     },
     "execution_count": 4,
     "metadata": {},
     "output_type": "execute_result"
    },
    {
     "data": {
      "text/plain": [
       "(7107, 6)"
      ]
     },
     "execution_count": 4,
     "metadata": {},
     "output_type": "execute_result"
    }
   ],
   "source": [
    "scaler = StandardScaler()\n",
    "scaler.fit(train.iloc[:, 2:8])\n",
    "\n",
    "train_meta = scaler.transform(train.iloc[:, 2:8])\n",
    "val_meta = scaler.transform(val.iloc[:, 2:8])\n",
    "test_meta = scaler.transform(test.iloc[:, 2:8])\n",
    "\n",
    "train_meta.shape\n",
    "val_meta.shape\n",
    "test_meta.shape"
   ]
  },
  {
   "cell_type": "markdown",
   "id": "a7236b75",
   "metadata": {},
   "source": [
    "#### Tokenizing"
   ]
  },
  {
   "cell_type": "code",
   "execution_count": 5,
   "id": "44804d31",
   "metadata": {},
   "outputs": [],
   "source": [
    "input_dim = 200"
   ]
  },
  {
   "cell_type": "code",
   "execution_count": 6,
   "id": "10c53072",
   "metadata": {},
   "outputs": [
    {
     "name": "stdout",
     "output_type": "stream",
     "text": [
      "18020 unique tokens\n"
     ]
    }
   ],
   "source": [
    "train_text = [i for i in train['stemmed_no_stop']]\n",
    "test_text = [i for i in test['stemmed_no_stop']]\n",
    "val_text = [i for i in val['stemmed_no_stop']]\n",
    "\n",
    "tokenizer = Tokenizer()\n",
    "\n",
    "tokenizer.fit_on_texts(train_text)\n",
    "\n",
    "print(len(tokenizer.word_index), 'unique tokens')\n",
    "\n",
    "train_seq = tokenizer.texts_to_sequences(train_text)\n",
    "test_seq = tokenizer.texts_to_sequences(test_text)\n",
    "val_seq = tokenizer.texts_to_sequences(val_text)\n",
    "\n",
    "train_data = pad_sequences(train_seq, input_dim)\n",
    "val_data = pad_sequences(val_seq, input_dim)\n",
    "test_data = pad_sequences(test_seq, input_dim)"
   ]
  },
  {
   "cell_type": "markdown",
   "id": "5b0cdfcb",
   "metadata": {},
   "source": [
    "#### Embedding"
   ]
  },
  {
   "cell_type": "code",
   "execution_count": 7,
   "id": "dcd1f5db",
   "metadata": {},
   "outputs": [
    {
     "name": "stderr",
     "output_type": "stream",
     "text": [
      "400001it [00:18, 21054.92it/s]\n"
     ]
    }
   ],
   "source": [
    "embeddings_index = {}\n",
    "with open('./glove/glove.6B/glove.6B.200d.txt','r', encoding=\"utf8\") as f:\n",
    "    for line in tqdm(f):\n",
    "        values = line.split()\n",
    "        word = values[0]\n",
    "        coefs = np.asarray(values[1:], dtype='float32')\n",
    "        embeddings_index[word] = coefs\n",
    "f.close()"
   ]
  },
  {
   "cell_type": "code",
   "execution_count": 8,
   "id": "04771cd3",
   "metadata": {},
   "outputs": [
    {
     "name": "stderr",
     "output_type": "stream",
     "text": [
      "100%|██████████| 18020/18020 [00:00<00:00, 750164.84it/s]"
     ]
    },
    {
     "name": "stdout",
     "output_type": "stream",
     "text": [
      "embedded matrix dimension (18021, 200)\n"
     ]
    },
    {
     "name": "stderr",
     "output_type": "stream",
     "text": [
      "\n"
     ]
    }
   ],
   "source": [
    "word_index = tokenizer.word_index\n",
    "\n",
    "#initialize embedding matrix with zeros\n",
    "embedding_matrix = np.zeros((len(word_index) + 1, input_dim))\n",
    "\n",
    "#add glove word encodings to our library\n",
    "for word, i in tqdm(word_index.items()):\n",
    "    embedding_vector = embeddings_index.get(word)\n",
    "    if embedding_vector is not None:\n",
    "        \n",
    "        #words not found in embedding index will be all-zeros.\n",
    "        embedding_matrix[i] = embedding_vector\n",
    "        \n",
    "print(\"embedded matrix dimension\", embedding_matrix.shape)\n",
    "\n",
    "embedding = Embedding(len(word_index) + 1, input_dim, weights = [embedding_matrix],\n",
    "                     input_length = 200, trainable = False)  "
   ]
  },
  {
   "cell_type": "markdown",
   "id": "8ab57b75",
   "metadata": {},
   "source": [
    "#### Modeling functions"
   ]
  },
  {
   "cell_type": "code",
   "execution_count": 9,
   "id": "57dbe02b",
   "metadata": {},
   "outputs": [],
   "source": [
    "reduce_lr = ReduceLROnPlateau(monitor = 'val_loss', \n",
    "                              factor = 0.5, \n",
    "                              verbose = 1, \n",
    "                              patience = 4,                        \n",
    "                              min_lr = 0.0001)   \n",
    "    \n",
    "def model_process(model, n_epochs=20):\n",
    "    model.summary()\n",
    "    history = model.fit(x=[train_data, train_meta],\n",
    "                        y=y_train,\n",
    "                        epochs = n_epochs,\n",
    "                        verbose=1,\n",
    "                        callbacks=[reduce_lr],\n",
    "                        validation_data = ([val_data, val_meta], y_val)\n",
    "                       )\n",
    "    \n",
    "    scores = pd.DataFrame(history.history)\n",
    "    scores[['loss', 'val_loss']].plot()\n",
    "    scores[['accuracy', 'val_accuracy']].plot()\n",
    "    \n",
    "    y_pred = (model.predict([test_data, test_meta]) > 0.5).astype(int)\n",
    "    print('\\nf1 score is:', f1_score(y_test, y_pred, average = 'macro'))\n",
    "    print(classification_report(y_test, y_pred))\n",
    "    print(confusion_matrix(y_test, y_pred))"
   ]
  },
  {
   "cell_type": "markdown",
   "id": "1eddfdb8",
   "metadata": {},
   "source": [
    "# BidirectionalLSTM"
   ]
  },
  {
   "cell_type": "code",
   "execution_count": 10,
   "id": "a547829b",
   "metadata": {},
   "outputs": [],
   "source": [
    "def bi_lstm_rnn():\n",
    "    nlp_input = Input(shape = (input_dim,), name = 'nlp_input')\n",
    "    meta_input_train = Input(shape = (6, ), name = 'meta_train')\n",
    "    \n",
    "    emb = embedding(nlp_input)\n",
    "    emb = SpatialDropout1D(0.2)(emb)\n",
    "\n",
    "    nlp_out = Bidirectional(LSTM(64, dropout=0.2, return_sequences=True))(emb)  \n",
    "    nlp_out = SpatialDropout1D(0.2)(nlp_out)\n",
    "    nlp_out = Bidirectional(LSTM(32, dropout=0.2))(nlp_out)\n",
    "     \n",
    "    #add meta data    \n",
    "    x = Concatenate()([nlp_out, meta_input_train])\n",
    "    \n",
    "    #add second hidden layer\n",
    "    x = Dropout(0.2)(x)\n",
    "    x = (Dense(32, \n",
    "               activation = 'relu'\n",
    "              ))(x)\n",
    "    \n",
    "    #add output layer\n",
    "    x = Dropout(0.2)(x)\n",
    "    preds = Dense(1, \n",
    "                  activation='sigmoid'\n",
    "                 )(x)\n",
    "    \n",
    "    #compile model\n",
    "    model = Model(inputs=[nlp_input , meta_input_train], outputs = preds)\n",
    "    model.compile(loss = 'binary_crossentropy', optimizer = Adam(0.004), metrics = ['accuracy'])\n",
    "    \n",
    "    return model"
   ]
  },
  {
   "cell_type": "code",
   "execution_count": 11,
   "id": "6b1a15db",
   "metadata": {
    "scrolled": false
   },
   "outputs": [
    {
     "name": "stdout",
     "output_type": "stream",
     "text": [
      "Model: \"model\"\n",
      "__________________________________________________________________________________________________\n",
      " Layer (type)                   Output Shape         Param #     Connected to                     \n",
      "==================================================================================================\n",
      " nlp_input (InputLayer)         [(None, 200)]        0           []                               \n",
      "                                                                                                  \n",
      " embedding (Embedding)          (None, 200, 200)     3604200     ['nlp_input[0][0]']              \n",
      "                                                                                                  \n",
      " spatial_dropout1d (SpatialDrop  (None, 200, 200)    0           ['embedding[0][0]']              \n",
      " out1D)                                                                                           \n",
      "                                                                                                  \n",
      " bidirectional (Bidirectional)  (None, 200, 128)     135680      ['spatial_dropout1d[0][0]']      \n",
      "                                                                                                  \n",
      " spatial_dropout1d_1 (SpatialDr  (None, 200, 128)    0           ['bidirectional[0][0]']          \n",
      " opout1D)                                                                                         \n",
      "                                                                                                  \n",
      " bidirectional_1 (Bidirectional  (None, 64)          41216       ['spatial_dropout1d_1[0][0]']    \n",
      " )                                                                                                \n",
      "                                                                                                  \n",
      " meta_train (InputLayer)        [(None, 6)]          0           []                               \n",
      "                                                                                                  \n",
      " concatenate (Concatenate)      (None, 70)           0           ['bidirectional_1[0][0]',        \n",
      "                                                                  'meta_train[0][0]']             \n",
      "                                                                                                  \n",
      " dropout (Dropout)              (None, 70)           0           ['concatenate[0][0]']            \n",
      "                                                                                                  \n",
      " dense (Dense)                  (None, 32)           2272        ['dropout[0][0]']                \n",
      "                                                                                                  \n",
      " dropout_1 (Dropout)            (None, 32)           0           ['dense[0][0]']                  \n",
      "                                                                                                  \n",
      " dense_1 (Dense)                (None, 1)            33          ['dropout_1[0][0]']              \n",
      "                                                                                                  \n",
      "==================================================================================================\n",
      "Total params: 3,783,401\n",
      "Trainable params: 179,201\n",
      "Non-trainable params: 3,604,200\n",
      "__________________________________________________________________________________________________\n",
      "Epoch 1/10\n",
      "200/200 [==============================] - 52s 243ms/step - loss: 0.5832 - accuracy: 0.6968 - val_loss: 0.5587 - val_accuracy: 0.6892 - lr: 0.0040\n",
      "Epoch 2/10\n",
      "200/200 [==============================] - 49s 244ms/step - loss: 0.5639 - accuracy: 0.6995 - val_loss: 0.5783 - val_accuracy: 0.6932 - lr: 0.0040\n",
      "Epoch 3/10\n",
      "200/200 [==============================] - 49s 247ms/step - loss: 0.5357 - accuracy: 0.7239 - val_loss: 0.5482 - val_accuracy: 0.7137 - lr: 0.0040\n",
      "Epoch 4/10\n",
      "200/200 [==============================] - 49s 248ms/step - loss: 0.5312 - accuracy: 0.7245 - val_loss: 0.5632 - val_accuracy: 0.6950 - lr: 0.0040\n",
      "Epoch 5/10\n",
      "200/200 [==============================] - 49s 246ms/step - loss: 0.5076 - accuracy: 0.7397 - val_loss: 0.5695 - val_accuracy: 0.6940 - lr: 0.0040\n",
      "Epoch 6/10\n",
      "200/200 [==============================] - 62s 312ms/step - loss: 0.4846 - accuracy: 0.7595 - val_loss: 0.5598 - val_accuracy: 0.7058 - lr: 0.0040\n",
      "Epoch 7/10\n",
      "200/200 [==============================] - ETA: 0s - loss: 0.4637 - accuracy: 0.7730\n",
      "Epoch 00007: ReduceLROnPlateau reducing learning rate to 0.0020000000949949026.\n",
      "200/200 [==============================] - 70s 352ms/step - loss: 0.4637 - accuracy: 0.7730 - val_loss: 0.5793 - val_accuracy: 0.7008 - lr: 0.0040\n",
      "Epoch 8/10\n",
      "200/200 [==============================] - 70s 351ms/step - loss: 0.4140 - accuracy: 0.8046 - val_loss: 0.6578 - val_accuracy: 0.6925 - lr: 0.0020\n",
      "Epoch 9/10\n",
      "200/200 [==============================] - 72s 360ms/step - loss: 0.3958 - accuracy: 0.8140 - val_loss: 0.6640 - val_accuracy: 0.6992 - lr: 0.0020\n",
      "Epoch 10/10\n",
      "200/200 [==============================] - 79s 394ms/step - loss: 0.3665 - accuracy: 0.8298 - val_loss: 0.6681 - val_accuracy: 0.6831 - lr: 0.0020\n",
      "\n",
      "f1 score is: 0.6441829050242991\n",
      "              precision    recall  f1-score   support\n",
      "\n",
      "           0       0.77      0.75      0.76      4808\n",
      "           1       0.51      0.54      0.53      2299\n",
      "\n",
      "    accuracy                           0.68      7107\n",
      "   macro avg       0.64      0.65      0.64      7107\n",
      "weighted avg       0.69      0.68      0.69      7107\n",
      "\n",
      "[[3611 1197]\n",
      " [1052 1247]]\n"
     ]
    },
    {
     "data": {
      "image/png": "[encoded data removed]",
      "text/plain": [
       "<Figure size 432x288 with 1 Axes>"
      ]
     },
     "metadata": {},
     "output_type": "display_data"
    },
    {
     "data": {
      "image/png": "[encoded data removed]",
      "text/plain": [
       "<Figure size 432x288 with 1 Axes>"
      ]
     },
     "metadata": {},
     "output_type": "display_data"
    }
   ],
   "source": [
    "m1 = bi_lstm_rnn()\n",
    "model_process(m1, 10)"
   ]
  },
  {
   "cell_type": "code",
   "execution_count": null,
   "id": "26a243d8",
   "metadata": {},
   "outputs": [],
   "source": []
  },
  {
   "cell_type": "code",
   "execution_count": null,
   "id": "77ddf799",
   "metadata": {},
   "outputs": [],
   "source": []
  },
  {
   "cell_type": "code",
   "execution_count": null,
   "id": "80ba3c60",
   "metadata": {},
   "outputs": [],
   "source": []
  },
  {
   "cell_type": "code",
   "execution_count": null,
   "id": "35d0522b",
   "metadata": {},
   "outputs": [],
   "source": []
  },
  {
   "cell_type": "code",
   "execution_count": null,
   "id": "78dcd000",
   "metadata": {},
   "outputs": [],
   "source": []
  },
  {
   "cell_type": "code",
   "execution_count": null,
   "id": "249a61c1",
   "metadata": {},
   "outputs": [],
   "source": []
  },
  {
   "cell_type": "code",
   "execution_count": null,
   "id": "0a968fa7",
   "metadata": {},
   "outputs": [],
   "source": []
  },
  {
   "cell_type": "code",
   "execution_count": null,
   "id": "2cf82208",
   "metadata": {},
   "outputs": [],
   "source": []
  },
  {
   "cell_type": "code",
   "execution_count": null,
   "id": "554ebe9c",
   "metadata": {},
   "outputs": [],
   "source": []
  },
  {
   "cell_type": "code",
   "execution_count": null,
   "id": "42ec19cc",
   "metadata": {},
   "outputs": [],
   "source": []
  },
  {
   "cell_type": "code",
   "execution_count": null,
   "id": "c068fc91",
   "metadata": {},
   "outputs": [],
   "source": []
  },
  {
   "cell_type": "code",
   "execution_count": null,
   "id": "eeb32bf9",
   "metadata": {},
   "outputs": [],
   "source": []
  },
  {
   "cell_type": "code",
   "execution_count": null,
   "id": "66bfaefc",
   "metadata": {},
   "outputs": [],
   "source": []
  },
  {
   "cell_type": "code",
   "execution_count": null,
   "id": "fcb27f02",
   "metadata": {},
   "outputs": [],
   "source": []
  },
  {
   "cell_type": "code",
   "execution_count": null,
   "id": "52f9cbb7",
   "metadata": {},
   "outputs": [],
   "source": []
  }
 ],
 "metadata": {
  "kernelspec": {
   "display_name": "Python 3",
   "language": "python",
   "name": "python3"
  },
  "language_info": {
   "codemirror_mode": {
    "name": "ipython",
    "version": 3
   },
   "file_extension": ".py",
   "mimetype": "text/x-python",
   "name": "python",
   "nbconvert_exporter": "python",
   "pygments_lexer": "ipython3",
   "version": "3.7.11"
  }
 },
 "nbformat": 4,
 "nbformat_minor": 5
}
